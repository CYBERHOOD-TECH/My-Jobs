{
  "nbformat": 4,
  "nbformat_minor": 0,
  "metadata": {
    "colab": {
      "provenance": [],
      "toc_visible": true,
      "authorship_tag": "ABX9TyP4F2ywCQ/8RwbeRpUR2D+Z",
      "include_colab_link": true
    },
    "kernelspec": {
      "name": "python3",
      "display_name": "Python 3"
    },
    "language_info": {
      "name": "python"
    }
  },
  "cells": [
    {
      "cell_type": "markdown",
      "metadata": {
        "id": "view-in-github",
        "colab_type": "text"
      },
      "source": [
        "<a href=\"https://colab.research.google.com/github/CYBERHOOD-TECH/My-Jobs/blob/main/Data_Analysis_Training.ipynb\" target=\"_parent\"><img src=\"https://colab.research.google.com/assets/colab-badge.svg\" alt=\"Open In Colab\"/></a>"
      ]
    },
    {
      "cell_type": "code",
      "source": [
        "4+4"
      ],
      "metadata": {
        "colab": {
          "base_uri": "https://localhost:8080/"
        },
        "id": "seXeLjCT9G7D",
        "outputId": "60874213-491f-427d-dd3e-ee0530b022eb"
      },
      "execution_count": null,
      "outputs": [
        {
          "output_type": "execute_result",
          "data": {
            "text/plain": [
              "8"
            ]
          },
          "metadata": {},
          "execution_count": 11
        }
      ]
    },
    {
      "cell_type": "code",
      "source": [
        "4+4"
      ],
      "metadata": {
        "colab": {
          "base_uri": "https://localhost:8080/"
        },
        "id": "DrihpjXl9LTx",
        "outputId": "6b37c376-12a9-42f1-faa2-fcfc8a495a96"
      },
      "execution_count": null,
      "outputs": [
        {
          "output_type": "execute_result",
          "data": {
            "text/plain": [
              "8"
            ]
          },
          "metadata": {},
          "execution_count": 12
        }
      ]
    },
    {
      "cell_type": "code",
      "execution_count": null,
      "metadata": {
        "colab": {
          "base_uri": "https://localhost:8080/"
        },
        "id": "jxe6-inEPZ-O",
        "outputId": "647e6df0-11dd-411d-abdf-05bdf30390eb"
      },
      "outputs": [
        {
          "output_type": "execute_result",
          "data": {
            "text/plain": [
              "4"
            ]
          },
          "metadata": {},
          "execution_count": 10
        }
      ],
      "source": [
        "2+2"
      ]
    },
    {
      "cell_type": "code",
      "source": [
        "4+4"
      ],
      "metadata": {
        "colab": {
          "base_uri": "https://localhost:8080/"
        },
        "id": "APxaoDIk9R6M",
        "outputId": "0affac01-52c9-41d0-e29b-627d8c5b1c5c"
      },
      "execution_count": null,
      "outputs": [
        {
          "output_type": "execute_result",
          "data": {
            "text/plain": [
              "8"
            ]
          },
          "metadata": {},
          "execution_count": 13
        }
      ]
    },
    {
      "cell_type": "code",
      "source": [
        "print(\"Yakubu is a Boy\")"
      ],
      "metadata": {
        "colab": {
          "base_uri": "https://localhost:8080/"
        },
        "id": "gwCYETxi9Tu7",
        "outputId": "19211da3-4537-46c5-8775-f85b62951a7c"
      },
      "execution_count": null,
      "outputs": [
        {
          "output_type": "stream",
          "name": "stdout",
          "text": [
            "Yakubu is a Boy\n"
          ]
        }
      ]
    },
    {
      "cell_type": "markdown",
      "source": [
        "**This is BOld**"
      ],
      "metadata": {
        "id": "MJVFN5fK7iG3"
      }
    },
    {
      "cell_type": "code",
      "source": [
        "pr"
      ],
      "metadata": {
        "id": "w74xZsLm9o4H"
      },
      "execution_count": null,
      "outputs": []
    },
    {
      "cell_type": "code",
      "source": [
        "2+2"
      ],
      "metadata": {
        "colab": {
          "base_uri": "https://localhost:8080/"
        },
        "id": "3i_YfJBx4shs",
        "outputId": "926706bd-edb9-4ea6-9033-4eb886695097"
      },
      "execution_count": null,
      "outputs": [
        {
          "output_type": "execute_result",
          "data": {
            "text/plain": [
              "4"
            ]
          },
          "metadata": {},
          "execution_count": 6
        }
      ]
    },
    {
      "cell_type": "code",
      "source": [
        "#This is a comment"
      ],
      "metadata": {
        "id": "Wz7DZod45lut"
      },
      "execution_count": null,
      "outputs": []
    },
    {
      "cell_type": "markdown",
      "source": [
        "datanerd.tech\n",
        "[Click Here to visit site] (www.datanerd.tech)"
      ],
      "metadata": {
        "id": "CBCEhwRq6Lda"
      }
    },
    {
      "cell_type": "code",
      "source": [],
      "metadata": {
        "id": "CFyZZfIP7RNj"
      },
      "execution_count": null,
      "outputs": []
    },
    {
      "cell_type": "code",
      "source": [],
      "metadata": {
        "id": "90hGgauO7PEA"
      },
      "execution_count": null,
      "outputs": []
    },
    {
      "cell_type": "code",
      "source": [],
      "metadata": {
        "id": "NzlS7sxQ7GPr"
      },
      "execution_count": null,
      "outputs": []
    },
    {
      "cell_type": "code",
      "source": [
        "4+4 # This is 4+4\n",
        "---This is ok---\n"
      ],
      "metadata": {
        "colab": {
          "base_uri": "https://localhost:8080/"
        },
        "id": "fJF3VXoL5q5I",
        "outputId": "b3e0b6ba-74be-4325-f07d-4c61cb488aaf"
      },
      "execution_count": null,
      "outputs": [
        {
          "output_type": "execute_result",
          "data": {
            "text/plain": [
              "8"
            ]
          },
          "metadata": {},
          "execution_count": 8
        }
      ]
    },
    {
      "cell_type": "markdown",
      "source": [
        "#This is for yakubu\n",
        "This is for Yakubu\n",
        "#This is\n",
        "##This is boy\n",
        "###thuis is you\n",
        "####you are a Boy\n",
        "#####She is a girl\n",
        "###### We are good to go"
      ],
      "metadata": {
        "id": "YcUcdr9I41qk"
      }
    },
    {
      "cell_type": "code",
      "source": [
        "2+2"
      ],
      "metadata": {
        "colab": {
          "base_uri": "https://localhost:8080/"
        },
        "id": "SIDzBWvuQql3",
        "outputId": "0ead5a85-55e4-4337-e6bd-a29e48c8d111"
      },
      "execution_count": null,
      "outputs": [
        {
          "output_type": "execute_result",
          "data": {
            "text/plain": [
              "4"
            ]
          },
          "metadata": {},
          "execution_count": 1
        }
      ]
    },
    {
      "cell_type": "code",
      "source": [
        "2+4\n",
        "3*3"
      ],
      "metadata": {
        "colab": {
          "base_uri": "https://localhost:8080/"
        },
        "id": "C4QzhYznQml5",
        "outputId": "8926b3cd-15c1-4a9a-b3bf-85a1ac3ff92e"
      },
      "execution_count": null,
      "outputs": [
        {
          "output_type": "execute_result",
          "data": {
            "text/plain": [
              "9"
            ]
          },
          "metadata": {},
          "execution_count": 2
        }
      ]
    },
    {
      "cell_type": "code",
      "source": [
        "print(2+2)\n",
        "print(3*3)"
      ],
      "metadata": {
        "colab": {
          "base_uri": "https://localhost:8080/"
        },
        "id": "5mBUeqgtTDdK",
        "outputId": "0e0543cd-009c-40b3-9dac-3c02a7acea58"
      },
      "execution_count": null,
      "outputs": [
        {
          "output_type": "stream",
          "name": "stdout",
          "text": [
            "4\n",
            "9\n"
          ]
        }
      ]
    },
    {
      "cell_type": "code",
      "source": [
        "2+3\n",
        "print(3*9)"
      ],
      "metadata": {
        "colab": {
          "base_uri": "https://localhost:8080/"
        },
        "id": "r2Z0rST7TXlN",
        "outputId": "5c05a169-a6fd-4640-e961-55fe52cff02a"
      },
      "execution_count": null,
      "outputs": [
        {
          "output_type": "stream",
          "name": "stdout",
          "text": [
            "27\n"
          ]
        }
      ]
    },
    {
      "cell_type": "code",
      "source": [
        "print(3+5)\n",
        "3*7"
      ],
      "metadata": {
        "colab": {
          "base_uri": "https://localhost:8080/"
        },
        "id": "4bC2EOPpTgFa",
        "outputId": "7ada5319-4da0-459c-bc53-1e0ece2fb3db"
      },
      "execution_count": null,
      "outputs": [
        {
          "output_type": "stream",
          "name": "stdout",
          "text": [
            "8\n"
          ]
        },
        {
          "output_type": "execute_result",
          "data": {
            "text/plain": [
              "21"
            ]
          },
          "metadata": {},
          "execution_count": 5
        }
      ]
    },
    {
      "cell_type": "markdown",
      "source": [
        "<h1>Heading level 1</h1>\n",
        "# This is header 1\n",
        "\n",
        "##this is head\n",
        "#this is head\n",
        "#The head"
      ],
      "metadata": {
        "id": "9_3Q_PAzXDi0"
      }
    },
    {
      "cell_type": "code",
      "source": [
        "!ls"
      ],
      "metadata": {
        "colab": {
          "base_uri": "https://localhost:8080/"
        },
        "id": "Jk1QToevaJ7W",
        "outputId": "ac828a4a-69da-4057-ceb8-e1c3b163df72"
      },
      "execution_count": null,
      "outputs": [
        {
          "output_type": "stream",
          "name": "stdout",
          "text": [
            "sample_data\n"
          ]
        }
      ]
    },
    {
      "cell_type": "code",
      "source": [
        "%timeit [i**2 for i in range (1000)]"
      ],
      "metadata": {
        "colab": {
          "base_uri": "https://localhost:8080/"
        },
        "id": "3g2sULdRabJG",
        "outputId": "e404cd06-15d4-48a9-cfde-20f8eb154ddd"
      },
      "execution_count": null,
      "outputs": [
        {
          "output_type": "stream",
          "name": "stdout",
          "text": [
            "63.2 µs ± 635 ns per loop (mean ± std. dev. of 7 runs, 10000 loops each)\n"
          ]
        }
      ]
    },
    {
      "cell_type": "markdown",
      "source": [
        "Variable_name = Value\n"
      ],
      "metadata": {
        "id": "ozV5E9BQoPYl"
      }
    },
    {
      "cell_type": "code",
      "source": [
        "salary = 10000"
      ],
      "metadata": {
        "id": "7jveQ4rpoVh5"
      },
      "execution_count": null,
      "outputs": []
    },
    {
      "cell_type": "code",
      "source": [
        "salary"
      ],
      "metadata": {
        "colab": {
          "base_uri": "https://localhost:8080/"
        },
        "id": "L8s2q3VmoGVK",
        "outputId": "89ecc891-51f6-4d34-fb22-ca26cc870404"
      },
      "execution_count": null,
      "outputs": [
        {
          "output_type": "execute_result",
          "data": {
            "text/plain": [
              "10000"
            ]
          },
          "metadata": {},
          "execution_count": 10
        }
      ]
    },
    {
      "cell_type": "code",
      "source": [
        "bonus_rate = .10"
      ],
      "metadata": {
        "id": "CPsl2lOrouGt"
      },
      "execution_count": null,
      "outputs": []
    },
    {
      "cell_type": "code",
      "source": [
        "basic_salary = 10000\n",
        "bonus_rate = .10"
      ],
      "metadata": {
        "id": "_nWrgtLm1cEM"
      },
      "execution_count": null,
      "outputs": []
    },
    {
      "cell_type": "code",
      "source": [
        "total_salary = (basic_salary) * (1 + bonus_rate)"
      ],
      "metadata": {
        "id": "UxaW6eAMqG2Q"
      },
      "execution_count": null,
      "outputs": []
    },
    {
      "cell_type": "code",
      "source": [
        "total_salary"
      ],
      "metadata": {
        "colab": {
          "base_uri": "https://localhost:8080/"
        },
        "id": "il3zfhpiqb03",
        "outputId": "5a25ed9d-a50c-4271-ff2c-e47e54a6cdb1"
      },
      "execution_count": null,
      "outputs": [
        {
          "output_type": "execute_result",
          "data": {
            "text/plain": [
              "11000.0"
            ]
          },
          "metadata": {},
          "execution_count": 15
        }
      ]
    },
    {
      "cell_type": "code",
      "source": [
        "company_name = \"CyberHood\""
      ],
      "metadata": {
        "id": "s8iALAW-1rXT"
      },
      "execution_count": null,
      "outputs": []
    },
    {
      "cell_type": "code",
      "source": [
        "job_wfh = True"
      ],
      "metadata": {
        "id": "PZPIQgST2Dw1"
      },
      "execution_count": null,
      "outputs": []
    },
    {
      "cell_type": "code",
      "source": [
        "company_name"
      ],
      "metadata": {
        "colab": {
          "base_uri": "https://localhost:8080/",
          "height": 35
        },
        "id": "cC8wupPt2OCo",
        "outputId": "1610831f-2d47-43d4-d5f7-6e5d23b35dd6"
      },
      "execution_count": null,
      "outputs": [
        {
          "output_type": "execute_result",
          "data": {
            "text/plain": [
              "'CyberHood'"
            ],
            "application/vnd.google.colaboratory.intrinsic+json": {
              "type": "string"
            }
          },
          "metadata": {},
          "execution_count": 21
        }
      ]
    },
    {
      "cell_type": "code",
      "source": [
        "job_id = 101\n",
        "job_title = \"Data Analyst\"\n",
        "job_salary = 125000\n",
        "job_location = \"Abuja\""
      ],
      "metadata": {
        "id": "Oe-jSbfV2VFD"
      },
      "execution_count": null,
      "outputs": []
    },
    {
      "cell_type": "markdown",
      "source": [],
      "metadata": {
        "id": "dyzc7mfyU_JT"
      }
    },
    {
      "cell_type": "code",
      "source": [
        " print(\"Data job description\")\n",
        " print(\"++++++++++++++++++++\")\n",
        " print(\"job id:   \", job_id)\n",
        " print(\"Company name:   \", company_name)\n",
        " print(\"title:    \", job_title)\n",
        " print(\"salary:   \", job_salary)\n",
        " print(\"wfh:    \", job_wfh)\n",
        " print(\"location:   \", job_location)"
      ],
      "metadata": {
        "colab": {
          "base_uri": "https://localhost:8080/"
        },
        "id": "tqctu1Y_28w3",
        "outputId": "9953f76b-3d9a-4abf-d371-6ac324c82bf5"
      },
      "execution_count": null,
      "outputs": [
        {
          "output_type": "stream",
          "name": "stdout",
          "text": [
            "Data job description\n",
            "++++++++++++++++++++\n",
            "job id:    101\n",
            "Company name:    CyberHood\n",
            "title:     Data Analyst\n",
            "salary:    125000\n",
            "wfh:     True\n",
            "location:    Abuja\n"
          ]
        }
      ]
    },
    {
      "cell_type": "code",
      "source": [
        "type(25000)"
      ],
      "metadata": {
        "colab": {
          "base_uri": "https://localhost:8080/"
        },
        "id": "YkMK1QKOVi7T",
        "outputId": "26f11ea4-38f1-41b2-e6ab-5e39c58bca82"
      },
      "execution_count": null,
      "outputs": [
        {
          "output_type": "execute_result",
          "data": {
            "text/plain": [
              "int"
            ]
          },
          "metadata": {},
          "execution_count": 24
        }
      ]
    },
    {
      "cell_type": "code",
      "source": [
        "type(20.32)"
      ],
      "metadata": {
        "colab": {
          "base_uri": "https://localhost:8080/"
        },
        "id": "N604jBm0XFkz",
        "outputId": "cd0db1c4-51c3-4bbb-ca64-af3f38828603"
      },
      "execution_count": null,
      "outputs": [
        {
          "output_type": "execute_result",
          "data": {
            "text/plain": [
              "float"
            ]
          },
          "metadata": {},
          "execution_count": 25
        }
      ]
    },
    {
      "cell_type": "code",
      "source": [
        "type(True)"
      ],
      "metadata": {
        "colab": {
          "base_uri": "https://localhost:8080/"
        },
        "id": "5V8KVYZOXISG",
        "outputId": "5292cb1c-6d20-45ad-bee6-f4e9eed29d6f"
      },
      "execution_count": null,
      "outputs": [
        {
          "output_type": "execute_result",
          "data": {
            "text/plain": [
              "bool"
            ]
          },
          "metadata": {},
          "execution_count": 26
        }
      ]
    },
    {
      "cell_type": "code",
      "source": [
        "type(\"Data analyst\")"
      ],
      "metadata": {
        "colab": {
          "base_uri": "https://localhost:8080/"
        },
        "id": "JW5lO2KcXLtY",
        "outputId": "6efb98ee-9fa0-4811-dbd1-00f7ca8d0616"
      },
      "execution_count": null,
      "outputs": [
        {
          "output_type": "execute_result",
          "data": {
            "text/plain": [
              "str"
            ]
          },
          "metadata": {},
          "execution_count": 28
        }
      ]
    },
    {
      "cell_type": "code",
      "source": [
        "help(str)"
      ],
      "metadata": {
        "colab": {
          "base_uri": "https://localhost:8080/"
        },
        "id": "oXYV3GwwXi3k",
        "outputId": "e49bc979-d01c-42cd-f0df-b73b4ee8e476"
      },
      "execution_count": null,
      "outputs": [
        {
          "output_type": "stream",
          "name": "stdout",
          "text": [
            "Help on class str in module builtins:\n",
            "\n",
            "class str(object)\n",
            " |  str(object='') -> str\n",
            " |  str(bytes_or_buffer[, encoding[, errors]]) -> str\n",
            " |  \n",
            " |  Create a new string object from the given object. If encoding or\n",
            " |  errors is specified, then the object must expose a data buffer\n",
            " |  that will be decoded using the given encoding and error handler.\n",
            " |  Otherwise, returns the result of object.__str__() (if defined)\n",
            " |  or repr(object).\n",
            " |  encoding defaults to sys.getdefaultencoding().\n",
            " |  errors defaults to 'strict'.\n",
            " |  \n",
            " |  Methods defined here:\n",
            " |  \n",
            " |  __add__(self, value, /)\n",
            " |      Return self+value.\n",
            " |  \n",
            " |  __contains__(self, key, /)\n",
            " |      Return key in self.\n",
            " |  \n",
            " |  __eq__(self, value, /)\n",
            " |      Return self==value.\n",
            " |  \n",
            " |  __format__(self, format_spec, /)\n",
            " |      Return a formatted version of the string as described by format_spec.\n",
            " |  \n",
            " |  __ge__(self, value, /)\n",
            " |      Return self>=value.\n",
            " |  \n",
            " |  __getattribute__(self, name, /)\n",
            " |      Return getattr(self, name).\n",
            " |  \n",
            " |  __getitem__(self, key, /)\n",
            " |      Return self[key].\n",
            " |  \n",
            " |  __getnewargs__(...)\n",
            " |  \n",
            " |  __gt__(self, value, /)\n",
            " |      Return self>value.\n",
            " |  \n",
            " |  __hash__(self, /)\n",
            " |      Return hash(self).\n",
            " |  \n",
            " |  __iter__(self, /)\n",
            " |      Implement iter(self).\n",
            " |  \n",
            " |  __le__(self, value, /)\n",
            " |      Return self<=value.\n",
            " |  \n",
            " |  __len__(self, /)\n",
            " |      Return len(self).\n",
            " |  \n",
            " |  __lt__(self, value, /)\n",
            " |      Return self<value.\n",
            " |  \n",
            " |  __mod__(self, value, /)\n",
            " |      Return self%value.\n",
            " |  \n",
            " |  __mul__(self, value, /)\n",
            " |      Return self*value.\n",
            " |  \n",
            " |  __ne__(self, value, /)\n",
            " |      Return self!=value.\n",
            " |  \n",
            " |  __repr__(self, /)\n",
            " |      Return repr(self).\n",
            " |  \n",
            " |  __rmod__(self, value, /)\n",
            " |      Return value%self.\n",
            " |  \n",
            " |  __rmul__(self, value, /)\n",
            " |      Return value*self.\n",
            " |  \n",
            " |  __sizeof__(self, /)\n",
            " |      Return the size of the string in memory, in bytes.\n",
            " |  \n",
            " |  __str__(self, /)\n",
            " |      Return str(self).\n",
            " |  \n",
            " |  capitalize(self, /)\n",
            " |      Return a capitalized version of the string.\n",
            " |      \n",
            " |      More specifically, make the first character have upper case and the rest lower\n",
            " |      case.\n",
            " |  \n",
            " |  casefold(self, /)\n",
            " |      Return a version of the string suitable for caseless comparisons.\n",
            " |  \n",
            " |  center(self, width, fillchar=' ', /)\n",
            " |      Return a centered string of length width.\n",
            " |      \n",
            " |      Padding is done using the specified fill character (default is a space).\n",
            " |  \n",
            " |  count(...)\n",
            " |      S.count(sub[, start[, end]]) -> int\n",
            " |      \n",
            " |      Return the number of non-overlapping occurrences of substring sub in\n",
            " |      string S[start:end].  Optional arguments start and end are\n",
            " |      interpreted as in slice notation.\n",
            " |  \n",
            " |  encode(self, /, encoding='utf-8', errors='strict')\n",
            " |      Encode the string using the codec registered for encoding.\n",
            " |      \n",
            " |      encoding\n",
            " |        The encoding in which to encode the string.\n",
            " |      errors\n",
            " |        The error handling scheme to use for encoding errors.\n",
            " |        The default is 'strict' meaning that encoding errors raise a\n",
            " |        UnicodeEncodeError.  Other possible values are 'ignore', 'replace' and\n",
            " |        'xmlcharrefreplace' as well as any other name registered with\n",
            " |        codecs.register_error that can handle UnicodeEncodeErrors.\n",
            " |  \n",
            " |  endswith(...)\n",
            " |      S.endswith(suffix[, start[, end]]) -> bool\n",
            " |      \n",
            " |      Return True if S ends with the specified suffix, False otherwise.\n",
            " |      With optional start, test S beginning at that position.\n",
            " |      With optional end, stop comparing S at that position.\n",
            " |      suffix can also be a tuple of strings to try.\n",
            " |  \n",
            " |  expandtabs(self, /, tabsize=8)\n",
            " |      Return a copy where all tab characters are expanded using spaces.\n",
            " |      \n",
            " |      If tabsize is not given, a tab size of 8 characters is assumed.\n",
            " |  \n",
            " |  find(...)\n",
            " |      S.find(sub[, start[, end]]) -> int\n",
            " |      \n",
            " |      Return the lowest index in S where substring sub is found,\n",
            " |      such that sub is contained within S[start:end].  Optional\n",
            " |      arguments start and end are interpreted as in slice notation.\n",
            " |      \n",
            " |      Return -1 on failure.\n",
            " |  \n",
            " |  format(...)\n",
            " |      S.format(*args, **kwargs) -> str\n",
            " |      \n",
            " |      Return a formatted version of S, using substitutions from args and kwargs.\n",
            " |      The substitutions are identified by braces ('{' and '}').\n",
            " |  \n",
            " |  format_map(...)\n",
            " |      S.format_map(mapping) -> str\n",
            " |      \n",
            " |      Return a formatted version of S, using substitutions from mapping.\n",
            " |      The substitutions are identified by braces ('{' and '}').\n",
            " |  \n",
            " |  index(...)\n",
            " |      S.index(sub[, start[, end]]) -> int\n",
            " |      \n",
            " |      Return the lowest index in S where substring sub is found,\n",
            " |      such that sub is contained within S[start:end].  Optional\n",
            " |      arguments start and end are interpreted as in slice notation.\n",
            " |      \n",
            " |      Raises ValueError when the substring is not found.\n",
            " |  \n",
            " |  isalnum(self, /)\n",
            " |      Return True if the string is an alpha-numeric string, False otherwise.\n",
            " |      \n",
            " |      A string is alpha-numeric if all characters in the string are alpha-numeric and\n",
            " |      there is at least one character in the string.\n",
            " |  \n",
            " |  isalpha(self, /)\n",
            " |      Return True if the string is an alphabetic string, False otherwise.\n",
            " |      \n",
            " |      A string is alphabetic if all characters in the string are alphabetic and there\n",
            " |      is at least one character in the string.\n",
            " |  \n",
            " |  isascii(self, /)\n",
            " |      Return True if all characters in the string are ASCII, False otherwise.\n",
            " |      \n",
            " |      ASCII characters have code points in the range U+0000-U+007F.\n",
            " |      Empty string is ASCII too.\n",
            " |  \n",
            " |  isdecimal(self, /)\n",
            " |      Return True if the string is a decimal string, False otherwise.\n",
            " |      \n",
            " |      A string is a decimal string if all characters in the string are decimal and\n",
            " |      there is at least one character in the string.\n",
            " |  \n",
            " |  isdigit(self, /)\n",
            " |      Return True if the string is a digit string, False otherwise.\n",
            " |      \n",
            " |      A string is a digit string if all characters in the string are digits and there\n",
            " |      is at least one character in the string.\n",
            " |  \n",
            " |  isidentifier(self, /)\n",
            " |      Return True if the string is a valid Python identifier, False otherwise.\n",
            " |      \n",
            " |      Call keyword.iskeyword(s) to test whether string s is a reserved identifier,\n",
            " |      such as \"def\" or \"class\".\n",
            " |  \n",
            " |  islower(self, /)\n",
            " |      Return True if the string is a lowercase string, False otherwise.\n",
            " |      \n",
            " |      A string is lowercase if all cased characters in the string are lowercase and\n",
            " |      there is at least one cased character in the string.\n",
            " |  \n",
            " |  isnumeric(self, /)\n",
            " |      Return True if the string is a numeric string, False otherwise.\n",
            " |      \n",
            " |      A string is numeric if all characters in the string are numeric and there is at\n",
            " |      least one character in the string.\n",
            " |  \n",
            " |  isprintable(self, /)\n",
            " |      Return True if the string is printable, False otherwise.\n",
            " |      \n",
            " |      A string is printable if all of its characters are considered printable in\n",
            " |      repr() or if it is empty.\n",
            " |  \n",
            " |  isspace(self, /)\n",
            " |      Return True if the string is a whitespace string, False otherwise.\n",
            " |      \n",
            " |      A string is whitespace if all characters in the string are whitespace and there\n",
            " |      is at least one character in the string.\n",
            " |  \n",
            " |  istitle(self, /)\n",
            " |      Return True if the string is a title-cased string, False otherwise.\n",
            " |      \n",
            " |      In a title-cased string, upper- and title-case characters may only\n",
            " |      follow uncased characters and lowercase characters only cased ones.\n",
            " |  \n",
            " |  isupper(self, /)\n",
            " |      Return True if the string is an uppercase string, False otherwise.\n",
            " |      \n",
            " |      A string is uppercase if all cased characters in the string are uppercase and\n",
            " |      there is at least one cased character in the string.\n",
            " |  \n",
            " |  join(self, iterable, /)\n",
            " |      Concatenate any number of strings.\n",
            " |      \n",
            " |      The string whose method is called is inserted in between each given string.\n",
            " |      The result is returned as a new string.\n",
            " |      \n",
            " |      Example: '.'.join(['ab', 'pq', 'rs']) -> 'ab.pq.rs'\n",
            " |  \n",
            " |  ljust(self, width, fillchar=' ', /)\n",
            " |      Return a left-justified string of length width.\n",
            " |      \n",
            " |      Padding is done using the specified fill character (default is a space).\n",
            " |  \n",
            " |  lower(self, /)\n",
            " |      Return a copy of the string converted to lowercase.\n",
            " |  \n",
            " |  lstrip(self, chars=None, /)\n",
            " |      Return a copy of the string with leading whitespace removed.\n",
            " |      \n",
            " |      If chars is given and not None, remove characters in chars instead.\n",
            " |  \n",
            " |  partition(self, sep, /)\n",
            " |      Partition the string into three parts using the given separator.\n",
            " |      \n",
            " |      This will search for the separator in the string.  If the separator is found,\n",
            " |      returns a 3-tuple containing the part before the separator, the separator\n",
            " |      itself, and the part after it.\n",
            " |      \n",
            " |      If the separator is not found, returns a 3-tuple containing the original string\n",
            " |      and two empty strings.\n",
            " |  \n",
            " |  removeprefix(self, prefix, /)\n",
            " |      Return a str with the given prefix string removed if present.\n",
            " |      \n",
            " |      If the string starts with the prefix string, return string[len(prefix):].\n",
            " |      Otherwise, return a copy of the original string.\n",
            " |  \n",
            " |  removesuffix(self, suffix, /)\n",
            " |      Return a str with the given suffix string removed if present.\n",
            " |      \n",
            " |      If the string ends with the suffix string and that suffix is not empty,\n",
            " |      return string[:-len(suffix)]. Otherwise, return a copy of the original\n",
            " |      string.\n",
            " |  \n",
            " |  replace(self, old, new, count=-1, /)\n",
            " |      Return a copy with all occurrences of substring old replaced by new.\n",
            " |      \n",
            " |        count\n",
            " |          Maximum number of occurrences to replace.\n",
            " |          -1 (the default value) means replace all occurrences.\n",
            " |      \n",
            " |      If the optional argument count is given, only the first count occurrences are\n",
            " |      replaced.\n",
            " |  \n",
            " |  rfind(...)\n",
            " |      S.rfind(sub[, start[, end]]) -> int\n",
            " |      \n",
            " |      Return the highest index in S where substring sub is found,\n",
            " |      such that sub is contained within S[start:end].  Optional\n",
            " |      arguments start and end are interpreted as in slice notation.\n",
            " |      \n",
            " |      Return -1 on failure.\n",
            " |  \n",
            " |  rindex(...)\n",
            " |      S.rindex(sub[, start[, end]]) -> int\n",
            " |      \n",
            " |      Return the highest index in S where substring sub is found,\n",
            " |      such that sub is contained within S[start:end].  Optional\n",
            " |      arguments start and end are interpreted as in slice notation.\n",
            " |      \n",
            " |      Raises ValueError when the substring is not found.\n",
            " |  \n",
            " |  rjust(self, width, fillchar=' ', /)\n",
            " |      Return a right-justified string of length width.\n",
            " |      \n",
            " |      Padding is done using the specified fill character (default is a space).\n",
            " |  \n",
            " |  rpartition(self, sep, /)\n",
            " |      Partition the string into three parts using the given separator.\n",
            " |      \n",
            " |      This will search for the separator in the string, starting at the end. If\n",
            " |      the separator is found, returns a 3-tuple containing the part before the\n",
            " |      separator, the separator itself, and the part after it.\n",
            " |      \n",
            " |      If the separator is not found, returns a 3-tuple containing two empty strings\n",
            " |      and the original string.\n",
            " |  \n",
            " |  rsplit(self, /, sep=None, maxsplit=-1)\n",
            " |      Return a list of the substrings in the string, using sep as the separator string.\n",
            " |      \n",
            " |        sep\n",
            " |          The separator used to split the string.\n",
            " |      \n",
            " |          When set to None (the default value), will split on any whitespace\n",
            " |          character (including \\n \\r \\t \\f and spaces) and will discard\n",
            " |          empty strings from the result.\n",
            " |        maxsplit\n",
            " |          Maximum number of splits.\n",
            " |          -1 (the default value) means no limit.\n",
            " |      \n",
            " |      Splitting starts at the end of the string and works to the front.\n",
            " |  \n",
            " |  rstrip(self, chars=None, /)\n",
            " |      Return a copy of the string with trailing whitespace removed.\n",
            " |      \n",
            " |      If chars is given and not None, remove characters in chars instead.\n",
            " |  \n",
            " |  split(self, /, sep=None, maxsplit=-1)\n",
            " |      Return a list of the substrings in the string, using sep as the separator string.\n",
            " |      \n",
            " |        sep\n",
            " |          The separator used to split the string.\n",
            " |      \n",
            " |          When set to None (the default value), will split on any whitespace\n",
            " |          character (including \\n \\r \\t \\f and spaces) and will discard\n",
            " |          empty strings from the result.\n",
            " |        maxsplit\n",
            " |          Maximum number of splits.\n",
            " |          -1 (the default value) means no limit.\n",
            " |      \n",
            " |      Splitting starts at the front of the string and works to the end.\n",
            " |      \n",
            " |      Note, str.split() is mainly useful for data that has been intentionally\n",
            " |      delimited.  With natural text that includes punctuation, consider using\n",
            " |      the regular expression module.\n",
            " |  \n",
            " |  splitlines(self, /, keepends=False)\n",
            " |      Return a list of the lines in the string, breaking at line boundaries.\n",
            " |      \n",
            " |      Line breaks are not included in the resulting list unless keepends is given and\n",
            " |      true.\n",
            " |  \n",
            " |  startswith(...)\n",
            " |      S.startswith(prefix[, start[, end]]) -> bool\n",
            " |      \n",
            " |      Return True if S starts with the specified prefix, False otherwise.\n",
            " |      With optional start, test S beginning at that position.\n",
            " |      With optional end, stop comparing S at that position.\n",
            " |      prefix can also be a tuple of strings to try.\n",
            " |  \n",
            " |  strip(self, chars=None, /)\n",
            " |      Return a copy of the string with leading and trailing whitespace removed.\n",
            " |      \n",
            " |      If chars is given and not None, remove characters in chars instead.\n",
            " |  \n",
            " |  swapcase(self, /)\n",
            " |      Convert uppercase characters to lowercase and lowercase characters to uppercase.\n",
            " |  \n",
            " |  title(self, /)\n",
            " |      Return a version of the string where each word is titlecased.\n",
            " |      \n",
            " |      More specifically, words start with uppercased characters and all remaining\n",
            " |      cased characters have lower case.\n",
            " |  \n",
            " |  translate(self, table, /)\n",
            " |      Replace each character in the string using the given translation table.\n",
            " |      \n",
            " |        table\n",
            " |          Translation table, which must be a mapping of Unicode ordinals to\n",
            " |          Unicode ordinals, strings, or None.\n",
            " |      \n",
            " |      The table must implement lookup/indexing via __getitem__, for instance a\n",
            " |      dictionary or list.  If this operation raises LookupError, the character is\n",
            " |      left untouched.  Characters mapped to None are deleted.\n",
            " |  \n",
            " |  upper(self, /)\n",
            " |      Return a copy of the string converted to uppercase.\n",
            " |  \n",
            " |  zfill(self, width, /)\n",
            " |      Pad a numeric string with zeros on the left, to fill a field of the given width.\n",
            " |      \n",
            " |      The string is never truncated.\n",
            " |  \n",
            " |  ----------------------------------------------------------------------\n",
            " |  Static methods defined here:\n",
            " |  \n",
            " |  __new__(*args, **kwargs)\n",
            " |      Create and return a new object.  See help(type) for accurate signature.\n",
            " |  \n",
            " |  maketrans(...)\n",
            " |      Return a translation table usable for str.translate().\n",
            " |      \n",
            " |      If there is only one argument, it must be a dictionary mapping Unicode\n",
            " |      ordinals (integers) or characters to Unicode ordinals, strings or None.\n",
            " |      Character keys will be then converted to ordinals.\n",
            " |      If there are two arguments, they must be strings of equal length, and\n",
            " |      in the resulting dictionary, each character in x will be mapped to the\n",
            " |      character at the same position in y. If there is a third argument, it\n",
            " |      must be a string, whose characters will be mapped to None in the result.\n",
            "\n"
          ]
        }
      ]
    },
    {
      "cell_type": "code",
      "source": [
        "help(int)"
      ],
      "metadata": {
        "colab": {
          "base_uri": "https://localhost:8080/"
        },
        "id": "FarpMA2EX6Hp",
        "outputId": "d2bc1734-f00b-4f0a-c2ac-7f8dd831a317"
      },
      "execution_count": null,
      "outputs": [
        {
          "output_type": "stream",
          "name": "stdout",
          "text": [
            "Help on class int in module builtins:\n",
            "\n",
            "class int(object)\n",
            " |  int([x]) -> integer\n",
            " |  int(x, base=10) -> integer\n",
            " |  \n",
            " |  Convert a number or string to an integer, or return 0 if no arguments\n",
            " |  are given.  If x is a number, return x.__int__().  For floating point\n",
            " |  numbers, this truncates towards zero.\n",
            " |  \n",
            " |  If x is not a number or if base is given, then x must be a string,\n",
            " |  bytes, or bytearray instance representing an integer literal in the\n",
            " |  given base.  The literal can be preceded by '+' or '-' and be surrounded\n",
            " |  by whitespace.  The base defaults to 10.  Valid bases are 0 and 2-36.\n",
            " |  Base 0 means to interpret the base from the string as an integer literal.\n",
            " |  >>> int('0b100', base=0)\n",
            " |  4\n",
            " |  \n",
            " |  Built-in subclasses:\n",
            " |      bool\n",
            " |  \n",
            " |  Methods defined here:\n",
            " |  \n",
            " |  __abs__(self, /)\n",
            " |      abs(self)\n",
            " |  \n",
            " |  __add__(self, value, /)\n",
            " |      Return self+value.\n",
            " |  \n",
            " |  __and__(self, value, /)\n",
            " |      Return self&value.\n",
            " |  \n",
            " |  __bool__(self, /)\n",
            " |      True if self else False\n",
            " |  \n",
            " |  __ceil__(...)\n",
            " |      Ceiling of an Integral returns itself.\n",
            " |  \n",
            " |  __divmod__(self, value, /)\n",
            " |      Return divmod(self, value).\n",
            " |  \n",
            " |  __eq__(self, value, /)\n",
            " |      Return self==value.\n",
            " |  \n",
            " |  __float__(self, /)\n",
            " |      float(self)\n",
            " |  \n",
            " |  __floor__(...)\n",
            " |      Flooring an Integral returns itself.\n",
            " |  \n",
            " |  __floordiv__(self, value, /)\n",
            " |      Return self//value.\n",
            " |  \n",
            " |  __format__(self, format_spec, /)\n",
            " |      Default object formatter.\n",
            " |  \n",
            " |  __ge__(self, value, /)\n",
            " |      Return self>=value.\n",
            " |  \n",
            " |  __getattribute__(self, name, /)\n",
            " |      Return getattr(self, name).\n",
            " |  \n",
            " |  __getnewargs__(self, /)\n",
            " |  \n",
            " |  __gt__(self, value, /)\n",
            " |      Return self>value.\n",
            " |  \n",
            " |  __hash__(self, /)\n",
            " |      Return hash(self).\n",
            " |  \n",
            " |  __index__(self, /)\n",
            " |      Return self converted to an integer, if self is suitable for use as an index into a list.\n",
            " |  \n",
            " |  __int__(self, /)\n",
            " |      int(self)\n",
            " |  \n",
            " |  __invert__(self, /)\n",
            " |      ~self\n",
            " |  \n",
            " |  __le__(self, value, /)\n",
            " |      Return self<=value.\n",
            " |  \n",
            " |  __lshift__(self, value, /)\n",
            " |      Return self<<value.\n",
            " |  \n",
            " |  __lt__(self, value, /)\n",
            " |      Return self<value.\n",
            " |  \n",
            " |  __mod__(self, value, /)\n",
            " |      Return self%value.\n",
            " |  \n",
            " |  __mul__(self, value, /)\n",
            " |      Return self*value.\n",
            " |  \n",
            " |  __ne__(self, value, /)\n",
            " |      Return self!=value.\n",
            " |  \n",
            " |  __neg__(self, /)\n",
            " |      -self\n",
            " |  \n",
            " |  __or__(self, value, /)\n",
            " |      Return self|value.\n",
            " |  \n",
            " |  __pos__(self, /)\n",
            " |      +self\n",
            " |  \n",
            " |  __pow__(self, value, mod=None, /)\n",
            " |      Return pow(self, value, mod).\n",
            " |  \n",
            " |  __radd__(self, value, /)\n",
            " |      Return value+self.\n",
            " |  \n",
            " |  __rand__(self, value, /)\n",
            " |      Return value&self.\n",
            " |  \n",
            " |  __rdivmod__(self, value, /)\n",
            " |      Return divmod(value, self).\n",
            " |  \n",
            " |  __repr__(self, /)\n",
            " |      Return repr(self).\n",
            " |  \n",
            " |  __rfloordiv__(self, value, /)\n",
            " |      Return value//self.\n",
            " |  \n",
            " |  __rlshift__(self, value, /)\n",
            " |      Return value<<self.\n",
            " |  \n",
            " |  __rmod__(self, value, /)\n",
            " |      Return value%self.\n",
            " |  \n",
            " |  __rmul__(self, value, /)\n",
            " |      Return value*self.\n",
            " |  \n",
            " |  __ror__(self, value, /)\n",
            " |      Return value|self.\n",
            " |  \n",
            " |  __round__(...)\n",
            " |      Rounding an Integral returns itself.\n",
            " |      \n",
            " |      Rounding with an ndigits argument also returns an integer.\n",
            " |  \n",
            " |  __rpow__(self, value, mod=None, /)\n",
            " |      Return pow(value, self, mod).\n",
            " |  \n",
            " |  __rrshift__(self, value, /)\n",
            " |      Return value>>self.\n",
            " |  \n",
            " |  __rshift__(self, value, /)\n",
            " |      Return self>>value.\n",
            " |  \n",
            " |  __rsub__(self, value, /)\n",
            " |      Return value-self.\n",
            " |  \n",
            " |  __rtruediv__(self, value, /)\n",
            " |      Return value/self.\n",
            " |  \n",
            " |  __rxor__(self, value, /)\n",
            " |      Return value^self.\n",
            " |  \n",
            " |  __sizeof__(self, /)\n",
            " |      Returns size in memory, in bytes.\n",
            " |  \n",
            " |  __sub__(self, value, /)\n",
            " |      Return self-value.\n",
            " |  \n",
            " |  __truediv__(self, value, /)\n",
            " |      Return self/value.\n",
            " |  \n",
            " |  __trunc__(...)\n",
            " |      Truncating an Integral returns itself.\n",
            " |  \n",
            " |  __xor__(self, value, /)\n",
            " |      Return self^value.\n",
            " |  \n",
            " |  as_integer_ratio(self, /)\n",
            " |      Return integer ratio.\n",
            " |      \n",
            " |      Return a pair of integers, whose ratio is exactly equal to the original int\n",
            " |      and with a positive denominator.\n",
            " |      \n",
            " |      >>> (10).as_integer_ratio()\n",
            " |      (10, 1)\n",
            " |      >>> (-10).as_integer_ratio()\n",
            " |      (-10, 1)\n",
            " |      >>> (0).as_integer_ratio()\n",
            " |      (0, 1)\n",
            " |  \n",
            " |  bit_count(self, /)\n",
            " |      Number of ones in the binary representation of the absolute value of self.\n",
            " |      \n",
            " |      Also known as the population count.\n",
            " |      \n",
            " |      >>> bin(13)\n",
            " |      '0b1101'\n",
            " |      >>> (13).bit_count()\n",
            " |      3\n",
            " |  \n",
            " |  bit_length(self, /)\n",
            " |      Number of bits necessary to represent self in binary.\n",
            " |      \n",
            " |      >>> bin(37)\n",
            " |      '0b100101'\n",
            " |      >>> (37).bit_length()\n",
            " |      6\n",
            " |  \n",
            " |  conjugate(...)\n",
            " |      Returns self, the complex conjugate of any int.\n",
            " |  \n",
            " |  to_bytes(self, /, length=1, byteorder='big', *, signed=False)\n",
            " |      Return an array of bytes representing an integer.\n",
            " |      \n",
            " |      length\n",
            " |        Length of bytes object to use.  An OverflowError is raised if the\n",
            " |        integer is not representable with the given number of bytes.  Default\n",
            " |        is length 1.\n",
            " |      byteorder\n",
            " |        The byte order used to represent the integer.  If byteorder is 'big',\n",
            " |        the most significant byte is at the beginning of the byte array.  If\n",
            " |        byteorder is 'little', the most significant byte is at the end of the\n",
            " |        byte array.  To request the native byte order of the host system, use\n",
            " |        `sys.byteorder' as the byte order value.  Default is to use 'big'.\n",
            " |      signed\n",
            " |        Determines whether two's complement is used to represent the integer.\n",
            " |        If signed is False and a negative integer is given, an OverflowError\n",
            " |        is raised.\n",
            " |  \n",
            " |  ----------------------------------------------------------------------\n",
            " |  Class methods defined here:\n",
            " |  \n",
            " |  from_bytes(bytes, byteorder='big', *, signed=False)\n",
            " |      Return the integer represented by the given array of bytes.\n",
            " |      \n",
            " |      bytes\n",
            " |        Holds the array of bytes to convert.  The argument must either\n",
            " |        support the buffer protocol or be an iterable object producing bytes.\n",
            " |        Bytes and bytearray are examples of built-in objects that support the\n",
            " |        buffer protocol.\n",
            " |      byteorder\n",
            " |        The byte order used to represent the integer.  If byteorder is 'big',\n",
            " |        the most significant byte is at the beginning of the byte array.  If\n",
            " |        byteorder is 'little', the most significant byte is at the end of the\n",
            " |        byte array.  To request the native byte order of the host system, use\n",
            " |        `sys.byteorder' as the byte order value.  Default is to use 'big'.\n",
            " |      signed\n",
            " |        Indicates whether two's complement is used to represent the integer.\n",
            " |  \n",
            " |  ----------------------------------------------------------------------\n",
            " |  Static methods defined here:\n",
            " |  \n",
            " |  __new__(*args, **kwargs)\n",
            " |      Create and return a new object.  See help(type) for accurate signature.\n",
            " |  \n",
            " |  ----------------------------------------------------------------------\n",
            " |  Data descriptors defined here:\n",
            " |  \n",
            " |  denominator\n",
            " |      the denominator of a rational number in lowest terms\n",
            " |  \n",
            " |  imag\n",
            " |      the imaginary part of a complex number\n",
            " |  \n",
            " |  numerator\n",
            " |      the numerator of a rational number in lowest terms\n",
            " |  \n",
            " |  real\n",
            " |      the real part of a complex number\n",
            "\n"
          ]
        }
      ]
    },
    {
      "cell_type": "code",
      "source": [
        "id(job_wfh)"
      ],
      "metadata": {
        "colab": {
          "base_uri": "https://localhost:8080/"
        },
        "id": "QVgTQ80dYZ7r",
        "outputId": "5ec70154-8877-4d4e-953f-eeadb1d1e770"
      },
      "execution_count": null,
      "outputs": [
        {
          "output_type": "execute_result",
          "data": {
            "text/plain": [
              "9692800"
            ]
          },
          "metadata": {},
          "execution_count": 39
        }
      ]
    },
    {
      "cell_type": "code",
      "source": [
        "id(job_title)"
      ],
      "metadata": {
        "colab": {
          "base_uri": "https://localhost:8080/"
        },
        "id": "7e2a7EtbaRyI",
        "outputId": "bea59673-1713-4912-ba24-80f4c953f5f4"
      },
      "execution_count": null,
      "outputs": [
        {
          "output_type": "execute_result",
          "data": {
            "text/plain": [
              "139302083828976"
            ]
          },
          "metadata": {},
          "execution_count": 32
        }
      ]
    },
    {
      "cell_type": "code",
      "source": [
        "id(job_location)"
      ],
      "metadata": {
        "colab": {
          "base_uri": "https://localhost:8080/"
        },
        "id": "VGFJrEsyaaut",
        "outputId": "636a91fa-124a-4a02-fe26-d71432438854"
      },
      "execution_count": null,
      "outputs": [
        {
          "output_type": "execute_result",
          "data": {
            "text/plain": [
              "139302084279088"
            ]
          },
          "metadata": {},
          "execution_count": 40
        }
      ]
    },
    {
      "cell_type": "code",
      "source": [
        "job_1 = \"Data Analyst\"\n",
        "job_2 = \"Data Analyst\""
      ],
      "metadata": {
        "id": "teYEsNGcafD_"
      },
      "execution_count": null,
      "outputs": []
    },
    {
      "cell_type": "code",
      "source": [
        "id(job_1)"
      ],
      "metadata": {
        "colab": {
          "base_uri": "https://localhost:8080/"
        },
        "id": "tB69oCXefhgh",
        "outputId": "9cba5a87-e7d2-4e44-d828-2438531749d6"
      },
      "execution_count": null,
      "outputs": [
        {
          "output_type": "execute_result",
          "data": {
            "text/plain": [
              "139302095754224"
            ]
          },
          "metadata": {},
          "execution_count": 43
        }
      ]
    },
    {
      "cell_type": "code",
      "source": [
        "id_2 = id(job_2)"
      ],
      "metadata": {
        "id": "h6x7WszQfm5V"
      },
      "execution_count": null,
      "outputs": []
    },
    {
      "cell_type": "code",
      "source": [
        "id(job_1), id(job_2)"
      ],
      "metadata": {
        "colab": {
          "base_uri": "https://localhost:8080/"
        },
        "id": "_VkTqp0vf0Ce",
        "outputId": "57a312cb-cf09-4466-93ac-00ec8f491e42"
      },
      "execution_count": null,
      "outputs": [
        {
          "output_type": "execute_result",
          "data": {
            "text/plain": [
              "(139302095754224, 139302095761328)"
            ]
          },
          "metadata": {},
          "execution_count": 48
        }
      ]
    },
    {
      "cell_type": "code",
      "source": [
        "job_3 = job_1"
      ],
      "metadata": {
        "id": "ondEB6OagVrl"
      },
      "execution_count": null,
      "outputs": []
    },
    {
      "cell_type": "code",
      "source": [
        "id(job_1), id(job_3)"
      ],
      "metadata": {
        "colab": {
          "base_uri": "https://localhost:8080/"
        },
        "id": "fsrTLtngiR0h",
        "outputId": "da4a45cb-8b89-4ccf-e31b-7ea7d10dc4d5"
      },
      "execution_count": null,
      "outputs": [
        {
          "output_type": "execute_result",
          "data": {
            "text/plain": [
              "(139302095754224, 139302095754224)"
            ]
          },
          "metadata": {},
          "execution_count": 50
        }
      ]
    },
    {
      "cell_type": "code",
      "source": [
        "print(\"what's up KingRoy\")"
      ],
      "metadata": {
        "colab": {
          "base_uri": "https://localhost:8080/"
        },
        "id": "nqvLw1vVidlA",
        "outputId": "1cafab09-435d-4d9f-acc7-e7550427204b"
      },
      "execution_count": null,
      "outputs": [
        {
          "output_type": "stream",
          "name": "stdout",
          "text": [
            "what's up KingRoy\n"
          ]
        }
      ]
    },
    {
      "cell_type": "code",
      "source": [
        "my_print_func = print"
      ],
      "metadata": {
        "id": "lejsK19pi7ZN"
      },
      "execution_count": null,
      "outputs": []
    },
    {
      "cell_type": "code",
      "source": [
        "my_print_func(\"what's up KingRoy\")"
      ],
      "metadata": {
        "colab": {
          "base_uri": "https://localhost:8080/"
        },
        "id": "-dd2_JeFjHTR",
        "outputId": "395b0e25-ce86-41db-87fb-678829b57405"
      },
      "execution_count": null,
      "outputs": [
        {
          "output_type": "stream",
          "name": "stdout",
          "text": [
            "what's up KingRoy\n"
          ]
        }
      ]
    },
    {
      "cell_type": "code",
      "source": [
        "print"
      ],
      "metadata": {
        "colab": {
          "base_uri": "https://localhost:8080/"
        },
        "id": "IgB3VS9sjQtd",
        "outputId": "2e42f4cf-4db0-4b8e-e4dd-ac85fa3fdd21"
      },
      "execution_count": null,
      "outputs": [
        {
          "output_type": "execute_result",
          "data": {
            "text/plain": [
              "<function print(*args, sep=' ', end='\\n', file=None, flush=False)>"
            ]
          },
          "metadata": {},
          "execution_count": 55
        }
      ]
    },
    {
      "cell_type": "code",
      "source": [
        "print()"
      ],
      "metadata": {
        "colab": {
          "base_uri": "https://localhost:8080/"
        },
        "id": "J2i8YN1nkK7s",
        "outputId": "a052551b-8267-4e9c-afbc-6e79357c4814"
      },
      "execution_count": null,
      "outputs": [
        {
          "output_type": "stream",
          "name": "stdout",
          "text": [
            "\n"
          ]
        }
      ]
    },
    {
      "cell_type": "code",
      "source": [
        "def greet():\n",
        "    return \"What's up KingRoy\""
      ],
      "metadata": {
        "id": "E_JerM4GkOFz"
      },
      "execution_count": null,
      "outputs": []
    },
    {
      "cell_type": "code",
      "source": [
        "greet()"
      ],
      "metadata": {
        "colab": {
          "base_uri": "https://localhost:8080/",
          "height": 35
        },
        "id": "ytWAoePalZrO",
        "outputId": "c2e566af-62ac-484d-fa45-6197d53b9526"
      },
      "execution_count": null,
      "outputs": [
        {
          "output_type": "execute_result",
          "data": {
            "text/plain": [
              "\"What's up KingRoy\""
            ],
            "application/vnd.google.colaboratory.intrinsic+json": {
              "type": "string"
            }
          },
          "metadata": {},
          "execution_count": 59
        }
      ]
    },
    {
      "cell_type": "code",
      "source": [
        "type(\"yakubu\")"
      ],
      "metadata": {
        "colab": {
          "base_uri": "https://localhost:8080/"
        },
        "id": "pyTu_OXplk-B",
        "outputId": "1e6267b4-85ce-4906-d72b-73d42513a15c"
      },
      "execution_count": null,
      "outputs": [
        {
          "output_type": "execute_result",
          "data": {
            "text/plain": [
              "str"
            ]
          },
          "metadata": {},
          "execution_count": 2
        }
      ]
    },
    {
      "cell_type": "code",
      "source": [
        "type(400)"
      ],
      "metadata": {
        "colab": {
          "base_uri": "https://localhost:8080/"
        },
        "id": "V--SvKfF2jbZ",
        "outputId": "fbbd2440-2c4c-449d-d1b4-368111fb4d1e"
      },
      "execution_count": null,
      "outputs": [
        {
          "output_type": "execute_result",
          "data": {
            "text/plain": [
              "int"
            ]
          },
          "metadata": {},
          "execution_count": 3
        }
      ]
    },
    {
      "cell_type": "code",
      "source": [
        "type(425.33)"
      ],
      "metadata": {
        "colab": {
          "base_uri": "https://localhost:8080/"
        },
        "id": "NJQ7OL4s2tka",
        "outputId": "5c719f60-c2fd-48be-aa50-2f2567e237b2"
      },
      "execution_count": null,
      "outputs": [
        {
          "output_type": "execute_result",
          "data": {
            "text/plain": [
              "float"
            ]
          },
          "metadata": {},
          "execution_count": 4
        }
      ]
    },
    {
      "cell_type": "code",
      "source": [
        "type(True)"
      ],
      "metadata": {
        "colab": {
          "base_uri": "https://localhost:8080/"
        },
        "id": "hNl951Wt2xsb",
        "outputId": "6be04cb9-e634-4aa2-d8ee-f9973dfe680a"
      },
      "execution_count": null,
      "outputs": [
        {
          "output_type": "execute_result",
          "data": {
            "text/plain": [
              "bool"
            ]
          },
          "metadata": {},
          "execution_count": 5
        }
      ]
    },
    {
      "cell_type": "code",
      "source": [],
      "metadata": {
        "id": "HgyA9MfE22JL"
      },
      "execution_count": null,
      "outputs": []
    },
    {
      "cell_type": "markdown",
      "source": [
        "# main libraries used for data analysis:\n",
        "\n",
        "pandas: Data manipulation and analysis.\n",
        "numpy: Numerical computations.\n",
        "matplotlib and seaborn: Data visualization.\n"
      ],
      "metadata": {
        "id": "cqo_lxfigq7o"
      }
    },
    {
      "cell_type": "code",
      "source": [
        "import pandas as pd\n",
        "import numpy as np\n",
        "import matplotlib.pyplot as plt\n",
        "import seaborn as sns\n",
        "\n",
        "# Enable inline plotting\n",
        "%matplotlib inline\n"
      ],
      "metadata": {
        "id": "YeZfnhTrgOmp"
      },
      "execution_count": null,
      "outputs": []
    },
    {
      "cell_type": "code",
      "source": [],
      "metadata": {
        "id": "48K2e139gRB_"
      },
      "execution_count": null,
      "outputs": []
    },
    {
      "cell_type": "markdown",
      "source": [
        "Basic Arithmetic Operations\n",
        "Python supports standard arithmetic operators: +, -, *, /, ** (power), and % (modulo)."
      ],
      "metadata": {
        "id": "yD0ueDeyhDSZ"
      }
    },
    {
      "cell_type": "code",
      "source": [
        "5+5"
      ],
      "metadata": {
        "colab": {
          "base_uri": "https://localhost:8080/"
        },
        "id": "45r5EpO5nVQJ",
        "outputId": "bd711937-43f8-4673-d888-67479225ddb2"
      },
      "execution_count": null,
      "outputs": [
        {
          "output_type": "execute_result",
          "data": {
            "text/plain": [
              "10"
            ]
          },
          "metadata": {},
          "execution_count": 3
        }
      ]
    },
    {
      "cell_type": "code",
      "source": [
        "5*5"
      ],
      "metadata": {
        "colab": {
          "base_uri": "https://localhost:8080/"
        },
        "id": "11VtyG5EhLK2",
        "outputId": "1e4d573b-41b7-4123-e857-e16c530858d0"
      },
      "execution_count": null,
      "outputs": [
        {
          "output_type": "execute_result",
          "data": {
            "text/plain": [
              "25"
            ]
          },
          "metadata": {},
          "execution_count": 4
        }
      ]
    },
    {
      "cell_type": "code",
      "source": [
        "5-2"
      ],
      "metadata": {
        "colab": {
          "base_uri": "https://localhost:8080/"
        },
        "id": "G-Bi3VOWnhD8",
        "outputId": "b3d7c657-7abc-41c5-f278-0c5b4d31e06b"
      },
      "execution_count": null,
      "outputs": [
        {
          "output_type": "execute_result",
          "data": {
            "text/plain": [
              "3"
            ]
          },
          "metadata": {},
          "execution_count": 5
        }
      ]
    },
    {
      "cell_type": "code",
      "source": [
        "6/3"
      ],
      "metadata": {
        "colab": {
          "base_uri": "https://localhost:8080/"
        },
        "id": "7XOaDHJynjzQ",
        "outputId": "180505bc-7337-4406-b450-d2762951404f"
      },
      "execution_count": null,
      "outputs": [
        {
          "output_type": "execute_result",
          "data": {
            "text/plain": [
              "2.0"
            ]
          },
          "metadata": {},
          "execution_count": 6
        }
      ]
    },
    {
      "cell_type": "code",
      "source": [
        "6//3"
      ],
      "metadata": {
        "colab": {
          "base_uri": "https://localhost:8080/"
        },
        "id": "_8Iiwlnqnphb",
        "outputId": "c910f884-e714-4fad-f57a-e9d5f914cd31"
      },
      "execution_count": null,
      "outputs": [
        {
          "output_type": "execute_result",
          "data": {
            "text/plain": [
              "2"
            ]
          },
          "metadata": {},
          "execution_count": 7
        }
      ]
    },
    {
      "cell_type": "code",
      "source": [
        "# Addition\n",
        "a = 10\n",
        "b = 5\n",
        "print(\"Addition:\", a + b)\n",
        "\n",
        "# Subtraction\n",
        "print(\"Subtraction:\", a - b)\n",
        "\n",
        "# Multiplication\n",
        "print(\"Multiplication:\", a * b)\n",
        "\n",
        "# Division\n",
        "print(\"Division:\", a / b)\n",
        "\n",
        "# Exponentiation\n",
        "print(\"Exponentiation:\", a ** 2)\n",
        "\n",
        "# Modulo\n",
        "print(\"Modulo:\", a % b)\n"
      ],
      "metadata": {
        "id": "xEZ1_7BQhMgq"
      },
      "execution_count": null,
      "outputs": []
    },
    {
      "cell_type": "code",
      "source": [
        "age = 20\n",
        "print(age)"
      ],
      "metadata": {
        "colab": {
          "base_uri": "https://localhost:8080/"
        },
        "id": "aorH527WoqMZ",
        "outputId": "0b00941c-9d70-4e86-d0be-7cd67503808b"
      },
      "execution_count": null,
      "outputs": [
        {
          "output_type": "stream",
          "name": "stdout",
          "text": [
            "20\n"
          ]
        }
      ]
    },
    {
      "cell_type": "code",
      "source": [
        "age = 20\n",
        "age = 40\n",
        "print(age)"
      ],
      "metadata": {
        "colab": {
          "base_uri": "https://localhost:8080/"
        },
        "id": "fvij0UtlpGkQ",
        "outputId": "a4c7c42d-1741-4945-b368-fe389495ee05"
      },
      "execution_count": null,
      "outputs": [
        {
          "output_type": "stream",
          "name": "stdout",
          "text": [
            "40\n"
          ]
        }
      ]
    },
    {
      "cell_type": "code",
      "source": [
        "age1 = 40\n",
        "age2 = 20\n",
        "age2 = 60\n",
        "print (age2)"
      ],
      "metadata": {
        "colab": {
          "base_uri": "https://localhost:8080/"
        },
        "id": "bT8WMc60piKl",
        "outputId": "7afc4b6e-4a7e-4641-c7a1-01a996fc7db8"
      },
      "execution_count": null,
      "outputs": [
        {
          "output_type": "stream",
          "name": "stdout",
          "text": [
            "60\n"
          ]
        }
      ]
    },
    {
      "cell_type": "code",
      "source": [
        "age = 40\n",
        "age = 20\n",
        "age = 60\n",
        "print (age)"
      ],
      "metadata": {
        "colab": {
          "base_uri": "https://localhost:8080/"
        },
        "id": "0iFAOaHwvger",
        "outputId": "cb4b6d3c-9ebf-4d00-d1c6-cea64b11c731"
      },
      "execution_count": null,
      "outputs": [
        {
          "output_type": "stream",
          "name": "stdout",
          "text": [
            "60\n"
          ]
        }
      ]
    },
    {
      "cell_type": "code",
      "source": [
        "age1 = 40\n",
        "age2 = 20\n",
        "age1 = 60\n",
        "print (age1)"
      ],
      "metadata": {
        "colab": {
          "base_uri": "https://localhost:8080/"
        },
        "id": "exNznBlQvp-M",
        "outputId": "777a825f-0379-46c9-b3db-b84b4e589154"
      },
      "execution_count": null,
      "outputs": [
        {
          "output_type": "stream",
          "name": "stdout",
          "text": [
            "60\n"
          ]
        }
      ]
    },
    {
      "cell_type": "code",
      "source": [
        "age = 40\n",
        "age = 20\n",
        "age = 60\n",
        "print (age)"
      ],
      "metadata": {
        "colab": {
          "base_uri": "https://localhost:8080/"
        },
        "id": "Rrc0nmnPvwft",
        "outputId": "c61bbc0a-65a1-401b-ffcc-75bc64c47752"
      },
      "execution_count": null,
      "outputs": [
        {
          "output_type": "stream",
          "name": "stdout",
          "text": [
            "60\n"
          ]
        }
      ]
    },
    {
      "cell_type": "code",
      "source": [],
      "metadata": {
        "id": "5Id2I6Vtv6j2"
      },
      "execution_count": null,
      "outputs": []
    },
    {
      "cell_type": "code",
      "source": [],
      "metadata": {
        "id": "4cfmdXbavrOh"
      },
      "execution_count": null,
      "outputs": []
    },
    {
      "cell_type": "code",
      "source": [
        "age = 40\n",
        "price = 100\n",
        "first_name = \"John\"\n",
        "is_valid = True\n",
        "print (age)\n",
        "print (price)\n",
        "print (first_name)\n",
        "print (is_valid)"
      ],
      "metadata": {
        "colab": {
          "base_uri": "https://localhost:8080/"
        },
        "id": "Z5cXyyI8pEpy",
        "outputId": "693d5920-67a6-4232-8980-c1000f9cfd00"
      },
      "execution_count": null,
      "outputs": [
        {
          "output_type": "stream",
          "name": "stdout",
          "text": [
            "40\n",
            "100\n",
            "John\n",
            "True\n"
          ]
        }
      ]
    },
    {
      "cell_type": "code",
      "source": [],
      "metadata": {
        "id": "yslUnn4SqGMA"
      },
      "execution_count": null,
      "outputs": []
    },
    {
      "cell_type": "code",
      "source": [
        "a = 10\n",
        "b = 5\n",
        "print (a+b)"
      ],
      "metadata": {
        "colab": {
          "base_uri": "https://localhost:8080/"
        },
        "id": "xaz2ukwAhQmr",
        "outputId": "1342be1e-42ca-4b2e-de79-72497c146aaa"
      },
      "execution_count": null,
      "outputs": [
        {
          "output_type": "stream",
          "name": "stdout",
          "text": [
            "15\n"
          ]
        }
      ]
    },
    {
      "cell_type": "code",
      "source": [
        "a = 20\n",
        "b = 10\n",
        "print (a/b)\n"
      ],
      "metadata": {
        "colab": {
          "base_uri": "https://localhost:8080/"
        },
        "id": "O__zbwm-rVFc",
        "outputId": "f8d47eae-c40c-43f9-b6b9-274d3270ea09"
      },
      "execution_count": null,
      "outputs": [
        {
          "output_type": "stream",
          "name": "stdout",
          "text": [
            "2.0\n"
          ]
        }
      ]
    },
    {
      "cell_type": "code",
      "source": [],
      "metadata": {
        "id": "BmYhqtNQhmqJ"
      },
      "execution_count": null,
      "outputs": []
    },
    {
      "cell_type": "markdown",
      "source": [
        "A variable is a name that refers to a memory location where data is stored.\n",
        "\n",
        "Rules for Naming Variables:\n",
        "Must start with a letter or an underscore (_).\n",
        "Cannot start with a number.\n",
        "Can contain letters, numbers, and underscores.\n",
        "Cannot use reserved keywords (e.g., if, while, class)."
      ],
      "metadata": {
        "id": "NxCCjgx2kQRC"
      }
    },
    {
      "cell_type": "code",
      "source": [
        "# Assigning values to variables\n",
        "x = 10          # Integer\n",
        "y = 3.14        # Float\n",
        "name = \"Alice\"  # String\n",
        "is_active = True  # Boolean\n",
        "\n",
        "# Print variables\n",
        "print(\"x:\", x)\n",
        "print(\"y:\", y)\n",
        "print(\"name:\", name)\n",
        "print(\"is_active:\", is_active)\n"
      ],
      "metadata": {
        "id": "Gz22IUU9kthd"
      },
      "execution_count": null,
      "outputs": []
    },
    {
      "cell_type": "code",
      "source": [
        "a = 40\n",
        "b = 3.24\n",
        "name = \"yakubu\"\n",
        "is_active = True\n",
        "\n",
        "print (a)\n",
        "print (b)\n",
        "print (name)\n",
        "print (is_active)"
      ],
      "metadata": {
        "colab": {
          "base_uri": "https://localhost:8080/"
        },
        "id": "ymmt6L__1zdI",
        "outputId": "1f387bd8-d4c1-453e-ada4-25ea105f703e"
      },
      "execution_count": null,
      "outputs": [
        {
          "output_type": "stream",
          "name": "stdout",
          "text": [
            "40\n",
            "3.24\n",
            "yakubu\n",
            "True\n"
          ]
        }
      ]
    },
    {
      "cell_type": "code",
      "source": [
        " # Variable Types\n",
        "# Python automatically assigns the type of a variable based on its value."
      ],
      "metadata": {
        "id": "EjjQWiOS7ibj"
      },
      "execution_count": null,
      "outputs": []
    },
    {
      "cell_type": "code",
      "source": [
        "age = 40\n",
        "price = 100\n",
        "first_name = \"Yakubu\"\n",
        "is_valid = True\n",
        "print (age)\n",
        "print (price)\n",
        "print (first_name)\n",
        "print (is_valid)"
      ],
      "metadata": {
        "colab": {
          "base_uri": "https://localhost:8080/"
        },
        "id": "b6B4jnH_48y6",
        "outputId": "dba66daa-92fa-4e19-9d8d-fd224d98d398"
      },
      "execution_count": null,
      "outputs": [
        {
          "output_type": "stream",
          "name": "stdout",
          "text": [
            "40\n",
            "100\n",
            "Yakubu\n",
            "True\n"
          ]
        }
      ]
    },
    {
      "cell_type": "code",
      "source": [
        "age = 40\n",
        "price = 100\n",
        "first_name = \"Yakubu\"\n",
        "is_valid = True\n",
        "print (age, price, first_name, is_valid)\n"
      ],
      "metadata": {
        "colab": {
          "base_uri": "https://localhost:8080/"
        },
        "id": "lO6OPSoO5e1m",
        "outputId": "3a177289-6117-457c-ae71-934d7bf764d0"
      },
      "execution_count": null,
      "outputs": [
        {
          "output_type": "stream",
          "name": "stdout",
          "text": [
            "40 100 Yakubu True\n"
          ]
        }
      ]
    },
    {
      "cell_type": "code",
      "source": [
        "print (type(a))\n",
        "print (type(b))\n",
        "print (type(name))\n",
        "print (type(is_active))"
      ],
      "metadata": {
        "colab": {
          "base_uri": "https://localhost:8080/"
        },
        "id": "ojRY4Jz-2WFu",
        "outputId": "e3fa955c-dee0-4bd9-f0da-597529a08732"
      },
      "execution_count": null,
      "outputs": [
        {
          "output_type": "stream",
          "name": "stdout",
          "text": [
            "<class 'int'>\n",
            "<class 'float'>\n",
            "<class 'str'>\n",
            "<class 'bool'>\n"
          ]
        }
      ]
    },
    {
      "cell_type": "code",
      "source": [
        "10 ** 3"
      ],
      "metadata": {
        "colab": {
          "base_uri": "https://localhost:8080/"
        },
        "id": "6NDzHZJq3Nhi",
        "outputId": "58028317-8ee4-4a76-8307-a6d968b1091a"
      },
      "execution_count": null,
      "outputs": [
        {
          "output_type": "execute_result",
          "data": {
            "text/plain": [
              "1000"
            ]
          },
          "metadata": {},
          "execution_count": 32
        }
      ]
    },
    {
      "cell_type": "code",
      "source": [
        "10*10*10"
      ],
      "metadata": {
        "colab": {
          "base_uri": "https://localhost:8080/"
        },
        "id": "I-dj-r-S33mB",
        "outputId": "fb30f504-0232-4d46-e857-07266f4ad4bd"
      },
      "execution_count": null,
      "outputs": [
        {
          "output_type": "execute_result",
          "data": {
            "text/plain": [
              "1000"
            ]
          },
          "metadata": {},
          "execution_count": 33
        }
      ]
    },
    {
      "cell_type": "code",
      "source": [
        "x = 10\n",
        "x = x + 5\n",
        "print(x)"
      ],
      "metadata": {
        "colab": {
          "base_uri": "https://localhost:8080/"
        },
        "id": "I2nrb5CG3_fx",
        "outputId": "ac0f4699-104d-4d04-babd-d37ace47fe6b"
      },
      "execution_count": null,
      "outputs": [
        {
          "output_type": "stream",
          "name": "stdout",
          "text": [
            "15\n"
          ]
        }
      ]
    },
    {
      "cell_type": "code",
      "source": [
        "x += 3\n",
        "print(x)"
      ],
      "metadata": {
        "colab": {
          "base_uri": "https://localhost:8080/"
        },
        "id": "wFwaOSoK4Pe7",
        "outputId": "ad1870eb-5fc1-447a-a0e3-9b0b3bf8f05f"
      },
      "execution_count": null,
      "outputs": [
        {
          "output_type": "stream",
          "name": "stdout",
          "text": [
            "18\n"
          ]
        }
      ]
    },
    {
      "cell_type": "code",
      "source": [
        "x -= 3\n",
        "print(x)"
      ],
      "metadata": {
        "colab": {
          "base_uri": "https://localhost:8080/"
        },
        "id": "c2aK7nyA49-N",
        "outputId": "b55adca7-abb2-4758-a7a3-744ca1b106ca"
      },
      "execution_count": null,
      "outputs": [
        {
          "output_type": "stream",
          "name": "stdout",
          "text": [
            "15\n"
          ]
        }
      ]
    },
    {
      "cell_type": "code",
      "source": [
        "x *= 3\n",
        "print(x)"
      ],
      "metadata": {
        "colab": {
          "base_uri": "https://localhost:8080/"
        },
        "id": "n7eopVeo5TIr",
        "outputId": "744b0da7-7d0c-44ec-d311-60e61ecd0c5e"
      },
      "execution_count": null,
      "outputs": [
        {
          "output_type": "stream",
          "name": "stdout",
          "text": [
            "45\n"
          ]
        }
      ]
    },
    {
      "cell_type": "code",
      "source": [
        "# Assigning values to variables\n",
        "x = 10          # Integer\n",
        "y = 3.14        # Float\n",
        "name = \"Alice\"  # String\n",
        "is_active = True  # Boolean\n",
        "\n",
        "# Print variables\n",
        "print(\"x:\", x)\n",
        "print(\"y:\", y)\n",
        "print(\"name:\", name)\n",
        "print(\"is_active:\", is_active)\n"
      ],
      "metadata": {
        "colab": {
          "base_uri": "https://localhost:8080/"
        },
        "id": "5VVUp48b5bYp",
        "outputId": "77b3d171-4866-4888-dc4f-c66834ea8471"
      },
      "execution_count": null,
      "outputs": [
        {
          "output_type": "stream",
          "name": "stdout",
          "text": [
            "x: 10\n",
            "y: 3.14\n",
            "name: Alice\n",
            "is_active: True\n"
          ]
        }
      ]
    },
    {
      "cell_type": "code",
      "source": [
        "amos = 10\n",
        "john = 3.14\n",
        "name = \"Yakubu\"\n",
        "is_active = True\n",
        "print (\"my_amos is a boy:\", amos)"
      ],
      "metadata": {
        "colab": {
          "base_uri": "https://localhost:8080/"
        },
        "id": "qmwAIhWv6tMl",
        "outputId": "a4c1370f-5cb9-4e6d-a9cc-ea3f93906e61"
      },
      "execution_count": null,
      "outputs": [
        {
          "output_type": "stream",
          "name": "stdout",
          "text": [
            "my_amos is a boy: 10\n"
          ]
        }
      ]
    },
    {
      "cell_type": "code",
      "source": [
        "#Reassigning Variables\n",
        "#You can change the value of a variable anytime."
      ],
      "metadata": {
        "id": "pO2EMpJW7SA-"
      },
      "execution_count": null,
      "outputs": []
    },
    {
      "cell_type": "code",
      "source": [
        "# Initial value\n",
        "age = 25\n",
        "print(\"Age:\", age)\n",
        "\n",
        "# Reassign a new value\n",
        "age = 30\n",
        "print(\"Yakubu New Age:\", age)\n"
      ],
      "metadata": {
        "colab": {
          "base_uri": "https://localhost:8080/"
        },
        "id": "qYGb0WSM7yhB",
        "outputId": "ea25f713-91b8-49ca-a6b5-f9115105b3f7"
      },
      "execution_count": null,
      "outputs": [
        {
          "output_type": "stream",
          "name": "stdout",
          "text": [
            "Age: 25\n",
            "Yakubu New Age: 30\n"
          ]
        }
      ]
    },
    {
      "cell_type": "code",
      "source": [
        "# Initially an integer\n",
        "data = 100\n",
        "print(\"Data:\", data, \"| Type:\", type(data))\n",
        "print(data, type(data))\n",
        "\n",
        "# Now a string\n",
        "data = \"Hello\"\n",
        "print(\"Data:\", data, \"| Type:\", type(data))\n",
        "\n",
        "# Now a float\n",
        "data = 3.14\n",
        "print(\"Data:\", data, \"| Type:\", type(data))\n",
        "\n",
        "# Now a boolean\n",
        "data = True\n",
        "print(\"Data:\", data, \"| Type:\", type(data))\n"
      ],
      "metadata": {
        "colab": {
          "base_uri": "https://localhost:8080/"
        },
        "id": "xGTHYv468Lo6",
        "outputId": "4a97e808-08b8-46c3-ec96-c1910c2b53b9"
      },
      "execution_count": null,
      "outputs": [
        {
          "output_type": "stream",
          "name": "stdout",
          "text": [
            "Data: 100 | Type: <class 'int'>\n",
            "100 <class 'int'>\n",
            "Data: Hello | Type: <class 'str'>\n",
            "Data: 3.14 | Type: <class 'float'>\n",
            "Data: True | Type: <class 'bool'>\n"
          ]
        }
      ]
    },
    {
      "cell_type": "code",
      "source": [],
      "metadata": {
        "id": "WUSBG4jl70hg"
      },
      "execution_count": null,
      "outputs": []
    },
    {
      "cell_type": "code",
      "source": [
        "#Variable Operations\n",
        "#You can perform operations using variables."
      ],
      "metadata": {
        "id": "BohLLUyR89gk"
      },
      "execution_count": null,
      "outputs": []
    },
    {
      "cell_type": "code",
      "source": [
        "# Arithmetic operations\n",
        "a = 5\n",
        "b = 3\n",
        "print(\"Addition:\", a + b)\n",
        "print(\"Subtraction:\", a - b)\n",
        "print(\"Multiplication:\", a * b)\n",
        "print(\"Division:\", a / b)\n",
        "print(\"Floor Division:\", a // b)\n",
        "print(\"Modulo:\", a % b)\n",
        "print(\"Exponentiation:\", a ** b)\n"
      ],
      "metadata": {
        "colab": {
          "base_uri": "https://localhost:8080/"
        },
        "id": "4KE8_FEk9ChG",
        "outputId": "424b93db-b3d8-43af-c281-211880358cba"
      },
      "execution_count": null,
      "outputs": [
        {
          "output_type": "stream",
          "name": "stdout",
          "text": [
            "Addition: 8\n",
            "Subtraction: 2\n",
            "Multiplication: 15\n",
            "Division: 1.6666666666666667\n",
            "Floor Division: 1\n",
            "Modulo: 2\n",
            "Exponentiation: 125\n"
          ]
        }
      ]
    },
    {
      "cell_type": "code",
      "source": [
        "a = 5\n",
        "b = 3\n",
        "print (\"Addition:\", a + b)\n",
        "print (\"Subtraction:\", a - b)\n",
        "print (\"Multiplication:\", a * b)"
      ],
      "metadata": {
        "colab": {
          "base_uri": "https://localhost:8080/"
        },
        "id": "4LKbm26V9KfG",
        "outputId": "88845515-32ee-44e1-b29f-d5656dacf4fe"
      },
      "execution_count": null,
      "outputs": [
        {
          "output_type": "stream",
          "name": "stdout",
          "text": [
            "Addition: 8\n",
            "Subtraction: 2\n",
            "Multiplication: 15\n"
          ]
        }
      ]
    },
    {
      "cell_type": "code",
      "source": [
        "#Multiple Assignments\n",
        "#You can assign values to multiple variables in one line."
      ],
      "metadata": {
        "id": "Mz1xmLM-9FGL"
      },
      "execution_count": null,
      "outputs": []
    },
    {
      "cell_type": "code",
      "source": [
        "# Assign same value to multiple variables\n",
        "x = y = z = 100\n",
        "print(\"x:\", x, \"y:\", y, \"z:\", z)\n",
        "print(x,y,z)\n",
        "# Assign different values\n",
        "a, b, c = 1, 2.5, \"Python\"\n",
        "print(\"a:\", a, \"b:\", b, \"c:\", c)\n",
        "print(a,b,c)\n"
      ],
      "metadata": {
        "colab": {
          "base_uri": "https://localhost:8080/"
        },
        "id": "wWS7Gisy-HvR",
        "outputId": "4c8a89b8-dc6e-4f47-b7f7-5c0a34c2e561"
      },
      "execution_count": null,
      "outputs": [
        {
          "output_type": "stream",
          "name": "stdout",
          "text": [
            "x: 100 y: 100 z: 100\n",
            "100 100 100\n",
            "a: 1 b: 2.5 c: Python\n",
            "1 2.5 Python\n"
          ]
        }
      ]
    },
    {
      "cell_type": "code",
      "source": [
        "#Constants\n",
        "#By convention, constants are written in uppercase, but Python does not enforce immutability."
      ],
      "metadata": {
        "id": "Xw1kDpMp-NHj"
      },
      "execution_count": null,
      "outputs": []
    },
    {
      "cell_type": "code",
      "source": [
        "PI = 3.14159\n",
        "GRAVITY = 9.8\n",
        "print(\"PI:\", PI)\n",
        "print(\"Gravity:\", GRAVITY)\n"
      ],
      "metadata": {
        "colab": {
          "base_uri": "https://localhost:8080/"
        },
        "id": "o2d9GIUD-RJy",
        "outputId": "877166bd-86e7-4b8b-d869-e22f536281f4"
      },
      "execution_count": null,
      "outputs": [
        {
          "output_type": "stream",
          "name": "stdout",
          "text": [
            "PI: 3.14159\n",
            "Gravity: 9.8\n"
          ]
        }
      ]
    },
    {
      "cell_type": "code",
      "source": [],
      "metadata": {
        "id": "24EDld5r-UL3"
      },
      "execution_count": null,
      "outputs": []
    },
    {
      "cell_type": "code",
      "source": [
        "#Variable Scope\n",
        "#The scope of a variable determines where it can be accessed."
      ],
      "metadata": {
        "id": "HZRtJkWQ-fz_"
      },
      "execution_count": null,
      "outputs": []
    },
    {
      "cell_type": "code",
      "source": [
        "def my_function():\n",
        "    local_var = 10  # Local variable\n",
        "    print(\"Inside Yakubu:\", local_var)\n",
        "\n",
        "my_function()\n",
        "# print(local_var)  # This will raise an error, as local_var is not accessible outside the function\n"
      ],
      "metadata": {
        "colab": {
          "base_uri": "https://localhost:8080/"
        },
        "id": "0wVRt0vP-kW5",
        "outputId": "abf64655-53f1-45fb-c7c7-b460cda1b9a8"
      },
      "execution_count": null,
      "outputs": [
        {
          "output_type": "stream",
          "name": "stdout",
          "text": [
            "Inside Yakubu: 10\n"
          ]
        }
      ]
    },
    {
      "cell_type": "code",
      "source": [],
      "metadata": {
        "id": "vwmoNP2T-lM6"
      },
      "execution_count": null,
      "outputs": []
    },
    {
      "cell_type": "markdown",
      "source": [
        "# Practice Exercises\n",
        "## Create and Manipulate Variables\n",
        "### - Assign an integer, float, and string to variables and print them.\n",
        "### - Dynamic Typing\n",
        "### - Assign a value to a variable, change its type, and verify the type using type().\n",
        "## Simple Calculation\n",
        "### -Assign two numbers to variables and calculate their sum, product, and division."
      ],
      "metadata": {
        "id": "r2tonuvI-9wz"
      }
    },
    {
      "cell_type": "code",
      "source": [
        "#Explaining Floor Division (//), Modulo (%), and Exponentiation (**) in Python\n",
        "#These three operators are commonly used in mathematical computations.\n",
        "\n"
      ],
      "metadata": {
        "id": "jtWRGd9Y_fgB"
      },
      "execution_count": null,
      "outputs": []
    },
    {
      "cell_type": "code",
      "source": [
        "#1. Floor Division (//)\n",
        "### The floor division operator (//) divides two numbers and rounds down the result\n",
        "#to the nearest whole number (integer). It removes the decimal part and returns\n",
        "#only the integer portion."
      ],
      "metadata": {
        "id": "KBk6r7U__nBI"
      },
      "execution_count": null,
      "outputs": []
    },
    {
      "cell_type": "code",
      "source": [],
      "metadata": {
        "id": "XfNys2fyAGRI"
      },
      "execution_count": null,
      "outputs": []
    },
    {
      "cell_type": "code",
      "source": [
        "print(10 // 3)  # Output: 3 (because 10 ÷ 3 = 3.33, and floor division removes the decimal)\n",
        "print(15 // 4)  # Output: 3 (because 15 ÷ 4 = 3.75, and floor division rounds down to 3)\n",
        "print(-10 // 3) # Output: -4 (rounds down to the lower integer)\n",
        "print(7.5 // 2) # Output: 3.0 (still removes decimal but keeps float if any operand is a float)\n"
      ],
      "metadata": {
        "colab": {
          "base_uri": "https://localhost:8080/"
        },
        "id": "sFxotP43AGwa",
        "outputId": "c9b3e1ed-beba-43fe-b2e0-fb04013c5254"
      },
      "execution_count": null,
      "outputs": [
        {
          "output_type": "stream",
          "name": "stdout",
          "text": [
            "3\n",
            "3\n",
            "-4\n",
            "3.0\n"
          ]
        }
      ]
    },
    {
      "cell_type": "markdown",
      "source": [
        "# Use Case:\n",
        "Used when you need integer division instead of decimal division.\n",
        "Helpful in scenarios like splitting groups of items where only whole groups are allowed."
      ],
      "metadata": {
        "id": "nVQWL6yKASLj"
      }
    },
    {
      "cell_type": "code",
      "source": [],
      "metadata": {
        "id": "lLcVJ6NjAH3g"
      },
      "execution_count": null,
      "outputs": []
    },
    {
      "cell_type": "code",
      "source": [
        "#Modulo (%)\n",
        "# The modulo operator (%) returns the remainder after division."
      ],
      "metadata": {
        "id": "KcYtI4dGAeJK"
      },
      "execution_count": null,
      "outputs": []
    },
    {
      "cell_type": "code",
      "source": [
        "print(10 % 3)  # Output: 1 (because 10 ÷ 3 = 3 remainder **1**)\n",
        "print(15 % 4)  # Output: 3 (15 ÷ 4 = 3 remainder **3**)\n",
        "print(7 % 2)   # Output: 1 (odd numbers give 1 when divided by 2)\n",
        "print(8 % 2)   # Output: 0 (even numbers give 0 when divided by 2)\n"
      ],
      "metadata": {
        "colab": {
          "base_uri": "https://localhost:8080/"
        },
        "id": "_09D5xs6AlH0",
        "outputId": "aeee826a-5947-47b6-8567-4a8ac5be4124"
      },
      "execution_count": null,
      "outputs": [
        {
          "output_type": "stream",
          "name": "stdout",
          "text": [
            "1\n",
            "3\n",
            "1\n",
            "0\n"
          ]
        }
      ]
    },
    {
      "cell_type": "code",
      "source": [
        "#Use Case:\n",
        "#Used to check if a number is even or odd:"
      ],
      "metadata": {
        "id": "7QtVpiOTAl_F"
      },
      "execution_count": null,
      "outputs": []
    },
    {
      "cell_type": "code",
      "source": [
        "num = 10\n",
        "if num % 2 == 0:\n",
        "    print(\"Even number\")\n",
        "else:\n",
        "    print(\"Odd number\")\n",
        "#Used in cyclic operations (like handling circular arrays or clocks).\n"
      ],
      "metadata": {
        "colab": {
          "base_uri": "https://localhost:8080/"
        },
        "id": "ytMh_bM1AxXW",
        "outputId": "b2892102-72b6-432a-a252-6ec6e7aebfea"
      },
      "execution_count": null,
      "outputs": [
        {
          "output_type": "stream",
          "name": "stdout",
          "text": [
            "Even number\n"
          ]
        }
      ]
    },
    {
      "cell_type": "code",
      "source": [
        "#3. Exponentiation (**)\n",
        "#The exponentiation operator (**) is used to raise a number to a power."
      ],
      "metadata": {
        "id": "tHYqwx_LAynT"
      },
      "execution_count": null,
      "outputs": []
    },
    {
      "cell_type": "code",
      "source": [
        "print(2 ** 3)   # Output: 8  (2³ = 2 × 2 × 2)\n",
        "print(5 ** 2)   # Output: 25 (5² = 5 × 5)\n",
        "print(10 ** 0)  # Output: 1  (Any number raised to 0 is 1)\n",
        "print(4 ** 0.5) # Output: 2.0 (Square root of 4)\n",
        "print(27 ** (1/3)) # Output: 3.0 (Cube root of 27)\n"
      ],
      "metadata": {
        "colab": {
          "base_uri": "https://localhost:8080/"
        },
        "id": "h-PGyvURBLhz",
        "outputId": "115430f1-5450-4d04-de40-0134ceba3208"
      },
      "execution_count": null,
      "outputs": [
        {
          "output_type": "stream",
          "name": "stdout",
          "text": [
            "8\n",
            "25\n",
            "1\n",
            "2.0\n",
            "3.0\n"
          ]
        }
      ]
    },
    {
      "cell_type": "code",
      "source": [
        "#Use Case:\n",
        "#Used in mathematical calculations like square, cube, and square root.\n",
        "#Used in scientific computing and algorithms that require power calculations."
      ],
      "metadata": {
        "id": "OG_ohDtLBMeo"
      },
      "execution_count": null,
      "outputs": []
    },
    {
      "cell_type": "code",
      "source": [
        "# Practice Assignments\n",
        "# - Calculate 17 // 4 and 17 % 4.\n",
        "# - Find the square of 9 using exponentiation.\n",
        "# - Write a program to check if a number is odd or even using the modulo operator.\n",
        "# - Calculate the cube root of 64 using exponentiation."
      ],
      "metadata": {
        "id": "xWz63TkxBXJ1"
      },
      "execution_count": null,
      "outputs": []
    },
    {
      "cell_type": "markdown",
      "source": [
        "# 1. Calculate 17 // 4 and 17 % 4\n",
        "Solution:"
      ],
      "metadata": {
        "id": "5GqHc_CbB3lS"
      }
    },
    {
      "cell_type": "code",
      "source": [
        "# Floor division\n",
        "floor_division = 17 // 4\n",
        "print(\"17 // 4 =\", floor_division)  # Output: 4\n",
        "\n",
        "# Modulo operation\n",
        "modulo = 17 % 4\n",
        "print(\"17 % 4 =\", modulo)  # Output: 1\n"
      ],
      "metadata": {
        "colab": {
          "base_uri": "https://localhost:8080/"
        },
        "id": "cpIqA7z5B7NR",
        "outputId": "c6cddae9-c715-4fb8-bb4f-913b333936a3"
      },
      "execution_count": null,
      "outputs": [
        {
          "output_type": "stream",
          "name": "stdout",
          "text": [
            "17 // 4 = 4\n",
            "17 % 4 = 1\n"
          ]
        }
      ]
    },
    {
      "cell_type": "markdown",
      "source": [
        "#Floor division divides a number and rounds the answer down\n",
        "\n",
        "#modulo operator divides a number and return the remainder of the results"
      ],
      "metadata": {
        "id": "U4JVyNC6Ocbm"
      }
    },
    {
      "cell_type": "code",
      "source": [],
      "metadata": {
        "id": "2T9EOD0qO19X"
      },
      "execution_count": null,
      "outputs": []
    },
    {
      "cell_type": "code",
      "source": [
        "#xplanation:\n",
        "#17 // 4 → 4 (because 17 ÷ 4 = 4.25, and floor division removes the decimal).\n",
        "#17 % 4 → 1 (because 17 ÷ 4 gives a remainder of 1)."
      ],
      "metadata": {
        "id": "rvnEmCi-B_9w"
      },
      "execution_count": null,
      "outputs": []
    },
    {
      "cell_type": "code",
      "source": [],
      "metadata": {
        "id": "zlGu2IkuCPKf"
      },
      "execution_count": null,
      "outputs": []
    },
    {
      "cell_type": "markdown",
      "source": [
        "# 2. Find the square of 9 using exponentiation\n",
        "Solution:"
      ],
      "metadata": {
        "id": "gwrqpJloCP2h"
      }
    },
    {
      "cell_type": "code",
      "source": [
        "square = 9 ** 2\n",
        "print(\"Square of 9:\", square)  # Output: 81\n"
      ],
      "metadata": {
        "colab": {
          "base_uri": "https://localhost:8080/"
        },
        "id": "1EUYlacdCSbM",
        "outputId": "0c5fe3ef-88cb-4ded-9c59-39e424ec8f5b"
      },
      "execution_count": null,
      "outputs": [
        {
          "output_type": "stream",
          "name": "stdout",
          "text": [
            "Square of 9: 81\n"
          ]
        }
      ]
    },
    {
      "cell_type": "code",
      "source": [
        "#Explanation:\n",
        "# 9 ** 2 → 9 × 9 = 81 (Exponentiation raises 9 to the power of 2)."
      ],
      "metadata": {
        "id": "teYabn1CCVtC"
      },
      "execution_count": null,
      "outputs": []
    },
    {
      "cell_type": "markdown",
      "source": [
        "# 3. Write a program to check if a number is odd or even using the modulo operator\n",
        "Solution:"
      ],
      "metadata": {
        "id": "Do9oQ2UhCgzH"
      }
    },
    {
      "cell_type": "code",
      "source": [
        "# Function to check if a number is even or odd\n",
        "def check_even_odd(num):\n",
        "    if num % 2 == 0:\n",
        "        print(num, \"is an Even number\")\n",
        "    else:\n",
        "        print(num, \"is an Odd number\")\n",
        "\n",
        "# Test cases\n",
        "check_even_odd(10)  # Output: 10 is an Even number\n",
        "check_even_odd(7)   # Output: 7 is an Odd number\n"
      ],
      "metadata": {
        "colab": {
          "base_uri": "https://localhost:8080/"
        },
        "id": "Y_nKEeeZCf13",
        "outputId": "1683c1b9-2f37-420c-82d3-8fe23e96352c"
      },
      "execution_count": null,
      "outputs": [
        {
          "output_type": "stream",
          "name": "stdout",
          "text": [
            "10 is an Even number\n",
            "7 is an Odd number\n"
          ]
        }
      ]
    },
    {
      "cell_type": "code",
      "source": [
        "#Explanation:\n",
        "#If num % 2 == 0, the number is even.\n",
        "#Else, the number is odd.\n",
        "#10 % 2 = 0 → Even\n",
        "#7 % 2 = 1 → Odd"
      ],
      "metadata": {
        "id": "7c-MbWDBClmJ"
      },
      "execution_count": null,
      "outputs": []
    },
    {
      "cell_type": "code",
      "source": [],
      "metadata": {
        "id": "MnnEyBnTCxB7"
      },
      "execution_count": null,
      "outputs": []
    },
    {
      "cell_type": "markdown",
      "source": [
        "# 4. Calculate the cube root of 64 using exponentiation\n",
        "Solution:\n",
        "\n"
      ],
      "metadata": {
        "id": "k4Avg5JKC1dB"
      }
    },
    {
      "cell_type": "code",
      "source": [
        "cube_root = 64 ** (1/3)\n",
        "print(\"Cube root of 64:\", cube_root)  # Output: 3.9999999999999996 (approximately 4)\n"
      ],
      "metadata": {
        "colab": {
          "base_uri": "https://localhost:8080/"
        },
        "id": "I21q1QHFC719",
        "outputId": "e7092751-0a0c-46b2-ea1d-7d446816e423"
      },
      "execution_count": null,
      "outputs": [
        {
          "output_type": "stream",
          "name": "stdout",
          "text": [
            "Cube root of 64: 3.9999999999999996\n"
          ]
        }
      ]
    },
    {
      "cell_type": "code",
      "source": [
        "#Explanation:\n",
        "#Cube root formula: n ** (1/3)\n",
        "#64 ** (1/3) → 4.0 (since 4³ = 64)\n",
        "#The output might be 3.9999999999999996 due to floating-point precision in Python."
      ],
      "metadata": {
        "id": "MxSoAObQC83j"
      },
      "execution_count": null,
      "outputs": []
    },
    {
      "cell_type": "markdown",
      "source": [
        "#Understanding Functions in Python\n",
        "Functions are reusable blocks of code that perform specific tasks. They help make programs modular, readable, and efficient."
      ],
      "metadata": {
        "id": "j2j6uCUrYOQP"
      }
    },
    {
      "cell_type": "markdown",
      "source": [
        "##Functions help organize code and improve reusability.\n",
        "What to learn: ✅ Function basics (parameters, return values)\n",
        "✅ Advanced concepts (default arguments, recursion, *args, **kwargs)\n",
        "✅ Capstone projects to apply Python functions in real-world applications\n",
        " #Welcome to class"
      ],
      "metadata": {
        "id": "M4gor9Ocd-FL"
      }
    },
    {
      "cell_type": "markdown",
      "source": [
        "#Types of Functions\n",
        "## 1. Built -in Functions example: print(), Len(), Max() etc.\n",
        "\n",
        "## 2. User-Defined Functions: Functions that you create by ursef."
      ],
      "metadata": {
        "id": "jMERcAVtTKgI"
      }
    },
    {
      "cell_type": "code",
      "source": [
        "def greet(name):\n",
        "    return f\"Hello, {name}!\"\n",
        "\n",
        "print(greet(\"Yakubu\"))"
      ],
      "metadata": {
        "id": "bmcyWhINTuLe"
      },
      "execution_count": null,
      "outputs": []
    },
    {
      "cell_type": "code",
      "source": [
        "def greet():\n",
        "  print(\"Hell, Yakubu\")\n",
        "  print(\"How are you?\")\n",
        "  print(\"How far with your classes?\")\n",
        "  print(\"What class are you?\")\n",
        "greet()"
      ],
      "metadata": {
        "colab": {
          "base_uri": "https://localhost:8080/"
        },
        "id": "e5RNv8NCUTtY",
        "outputId": "ca3c3c85-a771-4cd2-9a36-ec2df65fa7d5"
      },
      "execution_count": 16,
      "outputs": [
        {
          "output_type": "stream",
          "name": "stdout",
          "text": [
            "Hell, Yakubu\n",
            "How are you?\n",
            "How far with your classes?\n",
            "What class are you?\n"
          ]
        }
      ]
    },
    {
      "cell_type": "code",
      "source": [
        "greet()"
      ],
      "metadata": {
        "colab": {
          "base_uri": "https://localhost:8080/"
        },
        "id": "gH3EnP15WRE9",
        "outputId": "a3662487-aed3-4e39-e6de-6f6e2e2de010"
      },
      "execution_count": 7,
      "outputs": [
        {
          "output_type": "stream",
          "name": "stdout",
          "text": [
            "Hell, Yakubu\n",
            "How are you?\n"
          ]
        }
      ]
    },
    {
      "cell_type": "markdown",
      "source": [
        "##1. Basic Function Syntax"
      ],
      "metadata": {
        "id": "hMqPOBVIYX0j"
      }
    },
    {
      "cell_type": "code",
      "source": [
        "def greet(name):  # Function definition\n",
        "    return f\"My Guy, {name}!\"  # Return statement\n",
        "\n",
        "print(greet(\"Yakubu Musa\"))  # Function call\n"
      ],
      "metadata": {
        "colab": {
          "base_uri": "https://localhost:8080/"
        },
        "id": "Hbliia_-Ydqh",
        "outputId": "f7fc1b57-0f73-423b-89ca-88cb725d5563"
      },
      "execution_count": 13,
      "outputs": [
        {
          "output_type": "stream",
          "name": "stdout",
          "text": [
            "My Guy, Yakubu Musa!\n"
          ]
        }
      ]
    },
    {
      "cell_type": "code",
      "source": [
        "greet()"
      ],
      "metadata": {
        "colab": {
          "base_uri": "https://localhost:8080/"
        },
        "id": "Chwr7T4Uacfm",
        "outputId": "b3b2a9c9-4378-4461-9881-f8d7db0216d2"
      },
      "execution_count": 17,
      "outputs": [
        {
          "output_type": "stream",
          "name": "stdout",
          "text": [
            "Hell, Yakubu\n",
            "How are you?\n",
            "How far with your classes?\n",
            "What class are you?\n"
          ]
        }
      ]
    },
    {
      "cell_type": "code",
      "source": [
        "Explanation:\n",
        "\n",
        "#def greet(name): defines a function that takes one parameter (name).\n",
        "#The function returns a greeting message.\n",
        "#print(greet(\"Yakubu Musa\")) calls the function and prints the result."
      ],
      "metadata": {
        "id": "PQn8vuh7Yu4s"
      },
      "execution_count": null,
      "outputs": []
    },
    {
      "cell_type": "markdown",
      "source": [
        "##2. Function with Multiple Parameters"
      ],
      "metadata": {
        "id": "_MrLYmKRZCup"
      }
    },
    {
      "cell_type": "code",
      "source": [
        "def greet(name):\n",
        "  print(f\"Hello, {name}!\")\n",
        "\n",
        "greet(\"Yakubu Musa, How are you doing today?\")"
      ],
      "metadata": {
        "colab": {
          "base_uri": "https://localhost:8080/"
        },
        "id": "Z0p449RyWxnr",
        "outputId": "f7fe3de2-58fc-4f8f-e8f3-1762039689d8"
      },
      "execution_count": 10,
      "outputs": [
        {
          "output_type": "stream",
          "name": "stdout",
          "text": [
            "Hello, Yakubu Musa, How are you doing today?!\n"
          ]
        }
      ]
    },
    {
      "cell_type": "code",
      "source": [
        "print(greet(\"Yakubu Musa\"))"
      ],
      "metadata": {
        "colab": {
          "base_uri": "https://localhost:8080/"
        },
        "id": "rn79xeJZXd0b",
        "outputId": "de4c79c6-43d9-4583-9c75-8a84a9dec53d"
      },
      "execution_count": 15,
      "outputs": [
        {
          "output_type": "stream",
          "name": "stdout",
          "text": [
            "My Guy, Yakubu Musa!\n"
          ]
        }
      ]
    },
    {
      "cell_type": "code",
      "source": [
        "def add_numbers(a, b):\n",
        "    return a + b\n",
        "\n",
        "result = add_numbers(5, 10)\n",
        "print(\"Sum:\", result)\n"
      ],
      "metadata": {
        "colab": {
          "base_uri": "https://localhost:8080/"
        },
        "id": "7oBnVjVSYdSB",
        "outputId": "f60de806-60f4-4c54-cea0-106b8b05a98e"
      },
      "execution_count": null,
      "outputs": [
        {
          "output_type": "stream",
          "name": "stdout",
          "text": [
            "Sum: 15\n"
          ]
        }
      ]
    },
    {
      "cell_type": "code",
      "source": [
        "#Explanation:\n",
        "\n",
        "#add_numbers(a, b) takes two numbers as input.\n",
        "#It returns their sum.\n",
        "#The function is called with (5, 10) and prints the result.\n"
      ],
      "metadata": {
        "id": "1YJ7bLe4YcmM"
      },
      "execution_count": null,
      "outputs": []
    },
    {
      "cell_type": "markdown",
      "source": [
        "##3. Function with Default Arguments"
      ],
      "metadata": {
        "id": "lZHHfb1KZnR_"
      }
    },
    {
      "cell_type": "code",
      "source": [
        "def power(base, exponent=2):  # Default exponent is 2\n",
        "    return base ** exponent\n",
        "\n",
        "print(power(3))  # Uses default exponent (3^2)\n",
        "print(power(3, 3))  # Uses provided exponent (3^3)\n"
      ],
      "metadata": {
        "colab": {
          "base_uri": "https://localhost:8080/"
        },
        "id": "UdgvNfF7Zm56",
        "outputId": "f775b386-f64c-4e5a-9c86-c09a71daa78b"
      },
      "execution_count": null,
      "outputs": [
        {
          "output_type": "stream",
          "name": "stdout",
          "text": [
            "9\n",
            "27\n"
          ]
        }
      ]
    },
    {
      "cell_type": "code",
      "source": [
        "def New_power(base, exponent=4):\n",
        "  return base ** exponent\n",
        "\n",
        "  print(New_power(9))\n",
        "  print(New_power(9, 4))"
      ],
      "metadata": {
        "id": "4YvxfQG4bOtt"
      },
      "execution_count": 20,
      "outputs": []
    },
    {
      "cell_type": "code",
      "source": [
        "#Explanation:\n",
        "\n",
        "#If the second argument is not provided, it defaults to 2.\n",
        "#power(3) computes 3², while power(3, 3) computes 3³.\n"
      ],
      "metadata": {
        "id": "O16A4M7fZw_1"
      },
      "execution_count": null,
      "outputs": []
    },
    {
      "cell_type": "code",
      "source": [
        "def greet(name=\"Guest\"):  # Default name is \"Guest\"\n",
        "    return f\"Hello, {name}!\"\n",
        "\n",
        "print(greet())  # Uses default name\n",
        "print(greet(\"Yakubu\"))  # Uses provided name"
      ],
      "metadata": {
        "colab": {
          "base_uri": "https://localhost:8080/"
        },
        "id": "rHuGFcIXdc6j",
        "outputId": "cdab3c39-4634-4dd2-aa11-6522b796d4ed"
      },
      "execution_count": 21,
      "outputs": [
        {
          "output_type": "stream",
          "name": "stdout",
          "text": [
            "Hello, Guest!\n",
            "Hello, Yakubu!\n"
          ]
        }
      ]
    },
    {
      "cell_type": "markdown",
      "source": [
        "##4. Function with Variable Arguments (*args and **kwargs)\n",
        "\n"
      ],
      "metadata": {
        "id": "cZJ87T4MZ4jr"
      }
    },
    {
      "cell_type": "code",
      "source": [
        "def multiply(*args):  # Accepts multiple arguments\n",
        "    result = 1\n",
        "    for num in args:\n",
        "        result *= num\n",
        "    return result\n",
        "\n",
        "print(multiply(2, 3, 4))  # 2 * 3 * 4 = 24\n"
      ],
      "metadata": {
        "colab": {
          "base_uri": "https://localhost:8080/"
        },
        "id": "YF3WwSIEaAsU",
        "outputId": "78ae2a18-2dff-4ef2-ef8b-0ff5dfd3ad71"
      },
      "execution_count": null,
      "outputs": [
        {
          "output_type": "stream",
          "name": "stdout",
          "text": [
            "24\n"
          ]
        }
      ]
    },
    {
      "cell_type": "code",
      "source": [],
      "metadata": {
        "id": "876kOfBkaNZi"
      },
      "execution_count": null,
      "outputs": []
    },
    {
      "cell_type": "code",
      "source": [
        "#Explanation:\n",
        "\n",
        "#*args allows passing multiple arguments.\n",
        "#The function multiplies all arguments together."
      ],
      "metadata": {
        "id": "IRezEf5BaHX6"
      },
      "execution_count": null,
      "outputs": []
    },
    {
      "cell_type": "code",
      "source": [
        "def user_info(**kwargs):  # Accepts multiple key-value arguments\n",
        "    for key, value in kwargs.items():\n",
        "        print(f\"{key}: {value}\")\n",
        "\n",
        "user_info(name=\"Yakubu\", age=25, city=\"Life Camp\")\n"
      ],
      "metadata": {
        "colab": {
          "base_uri": "https://localhost:8080/"
        },
        "id": "TDFC1aM8aOgK",
        "outputId": "dae5d4f0-cf50-4bac-d72c-b74be1b9a608"
      },
      "execution_count": null,
      "outputs": [
        {
          "output_type": "stream",
          "name": "stdout",
          "text": [
            "name: Yakubu\n",
            "age: 25\n",
            "city: Life Camp\n"
          ]
        }
      ]
    },
    {
      "cell_type": "code",
      "source": [
        "#Explanation:\n",
        "\n",
        "#**kwargs allows passing named arguments (key=value).\n",
        "#The function prints user details dynamically.\n"
      ],
      "metadata": {
        "id": "ZW2HNugGaftt"
      },
      "execution_count": null,
      "outputs": []
    },
    {
      "cell_type": "markdown",
      "source": [
        "##5. Function Returning Multiple Values"
      ],
      "metadata": {
        "id": "TA-x-Zkhas3u"
      }
    },
    {
      "cell_type": "code",
      "source": [
        "def calculate(a, b):\n",
        "    return a + b, a - b, a * b, a / b  # Returns multiple values as a tuple\n",
        "\n",
        "sum_, diff, prod, quot = calculate(10, 2)\n",
        "print(sum_, diff, prod, quot)\n"
      ],
      "metadata": {
        "colab": {
          "base_uri": "https://localhost:8080/"
        },
        "id": "b-LhVM7Eax-9",
        "outputId": "120fca1d-2c3f-47e3-c734-0a1f7802c0c9"
      },
      "execution_count": null,
      "outputs": [
        {
          "output_type": "stream",
          "name": "stdout",
          "text": [
            "12 8 20 5.0\n"
          ]
        }
      ]
    },
    {
      "cell_type": "code",
      "source": [
        "#Explanation:\n",
        "\n",
        "#The function returns multiple values as a tuple.\n",
        "#We unpack the results into different variables."
      ],
      "metadata": {
        "id": "HmH6mSVoa6I6"
      },
      "execution_count": null,
      "outputs": []
    },
    {
      "cell_type": "code",
      "source": [
        "#Order Management system"
      ],
      "metadata": {
        "id": "Y1DgKg7RhnuL"
      },
      "execution_count": null,
      "outputs": []
    },
    {
      "cell_type": "markdown",
      "source": [
        "# Create a function to to process an order for a customer\n",
        "\n",
        "##Requirements:\n",
        "1. *args for multiple items in an order\n",
        "2. **Kwargs for customers details\n",
        "3. default discount of 5%"
      ],
      "metadata": {
        "id": "Y95s24Crhxyu"
      }
    },
    {
      "cell_type": "code",
      "source": [
        "def process_order(*items, **customer_info, discount=0.05):\n",
        "    total = 0\n",
        "    for item in items:\n",
        "        total += item['price']"
      ],
      "metadata": {
        "id": "CgWrJE67ii5U"
      },
      "execution_count": null,
      "outputs": []
    },
    {
      "cell_type": "code",
      "source": [
        "def process_order (customer=\"Yakubu\", discount=0.05, *items, **details):\n",
        "  print(f\"Customer: {customer}\")\n",
        "  print(\"Ordered Iterms:\", \", \".join(items))\n",
        "  print(f\"Discount Apllied: {discount * 100}%\")\n",
        "\n",
        "  for key, value in details.items():\n",
        "        print(f\"{key}: {value}\")\n",
        "\n",
        "process_order(\"Yakubu\", 0.05, \"Car\", \"Laptop\", \"Mouse\", payment=\"credit card\", address=\"Life Camp\")"
      ],
      "metadata": {
        "colab": {
          "base_uri": "https://localhost:8080/"
        },
        "id": "fyTgleovjLIE",
        "outputId": "b3686d81-e884-4961-cd19-b1257916a189"
      },
      "execution_count": 23,
      "outputs": [
        {
          "output_type": "stream",
          "name": "stdout",
          "text": [
            "Customer: Yakubu\n",
            "Ordered Iterms: Car, Laptop, Mouse\n",
            "Discount Apllied: 5.0%\n",
            "payment: credit card\n",
            "address: Life Camp\n"
          ]
        }
      ]
    },
    {
      "cell_type": "markdown",
      "source": [
        "#Capstone projects\n",
        "Create a function to to process an order for a customer\n",
        "Requirements:\n",
        "*args for multiple items in an order\n",
        "**Kwargs for customers details\n",
        "default discount of 7%\n"
      ],
      "metadata": {
        "id": "s4mmbfqMnFvX"
      }
    },
    {
      "cell_type": "markdown",
      "source": [
        "##6. Recursive Function"
      ],
      "metadata": {
        "id": "IjdxVggHbtMD"
      }
    },
    {
      "cell_type": "code",
      "source": [
        "def factorial(n):\n",
        "    if n == 0 or n == 1:\n",
        "        return 1\n",
        "    return n * factorial(n - 1)\n",
        "\n",
        "print(factorial(5))  # 5! = 5 * 4 * 3 * 2 * 1 = 120\n"
      ],
      "metadata": {
        "colab": {
          "base_uri": "https://localhost:8080/"
        },
        "id": "aTmIcBCvbzvn",
        "outputId": "fa1fe4f9-957b-4ce2-bbf9-64d20af1fe2a"
      },
      "execution_count": null,
      "outputs": [
        {
          "output_type": "stream",
          "name": "stdout",
          "text": [
            "120\n"
          ]
        }
      ]
    },
    {
      "cell_type": "code",
      "source": [
        "#Explanation:\n",
        "\n",
        "#The function calls itself (factorial(n - 1)) to compute the factorial.\n",
        "#Base case: If n is 0 or 1, return 1 to stop recursion.\n"
      ],
      "metadata": {
        "id": "j_zpBHk9b4z1"
      },
      "execution_count": null,
      "outputs": []
    },
    {
      "cell_type": "markdown",
      "source": [
        "#Assignment Project"
      ],
      "metadata": {
        "id": "hKKWEsFEcEs6"
      }
    },
    {
      "cell_type": "code",
      "source": [
        "#Project 1: Student Grade Calculator\n",
        "#Objective of the project is to:\n",
        "#Create a function to calculate student grades based on their scores\n",
        "\n",
        "#Project 2: Banking System with Functions\n",
        "##Objective:\n",
        "###Build a simple banking system to deposit, withdraw, and check balance\n",
        "\n",
        "#Project 3: To-Do List with Functions\n",
        "##Objective:\n",
        "###Create a simple command-line to-do list manager."
      ],
      "metadata": {
        "id": "IhWa8h-UcMUZ"
      },
      "execution_count": null,
      "outputs": []
    },
    {
      "cell_type": "markdown",
      "source": [
        "#Solutions"
      ],
      "metadata": {
        "id": "5GnJ44J9c6BF"
      }
    },
    {
      "cell_type": "code",
      "source": [
        "def calculate_grade(scores):\n",
        "    average = sum(scores) / len(scores)\n",
        "\n",
        "    if average >= 90:\n",
        "        return \"A\"\n",
        "    elif average >= 80:\n",
        "        return \"B\"\n",
        "    elif average >= 70:\n",
        "        return \"C\"\n",
        "    elif average >= 60:\n",
        "        return \"D\"\n",
        "    else:\n",
        "        return \"F\"\n",
        "\n",
        "# Example usage\n",
        "scores = [85, 90, 78, 92, 88]\n",
        "print(f\"Grade: {calculate_grade(scores)}\")\n"
      ],
      "metadata": {
        "colab": {
          "base_uri": "https://localhost:8080/"
        },
        "id": "Pbwh90rMcaqj",
        "outputId": "e040ece6-accd-4f9a-917c-b4b2188a6f64"
      },
      "execution_count": null,
      "outputs": [
        {
          "output_type": "stream",
          "name": "stdout",
          "text": [
            "Grade: B\n"
          ]
        }
      ]
    },
    {
      "cell_type": "code",
      "source": [
        "#Explanation\n",
        "#The function calculates the average score.\n",
        "#It assigns a grade based on standard grading criteria."
      ],
      "metadata": {
        "id": "63D57Qaccf6w"
      },
      "execution_count": null,
      "outputs": []
    },
    {
      "cell_type": "markdown",
      "source": [
        "#Project 2: Banking System with Functions\n",
        "##Objective:\n",
        "###Build a simple banking system to deposit, withdraw, and check balance"
      ],
      "metadata": {
        "id": "oiNSsIvjcoGw"
      }
    },
    {
      "cell_type": "code",
      "source": [
        "class BankAccount:\n",
        "    def __init__(self, name, balance=0):\n",
        "        self.name = name\n",
        "        self.balance = balance\n",
        "\n",
        "    def deposit(self, amount):\n",
        "        self.balance += amount\n",
        "        return f\"Deposited {amount}. New Balance: {self.balance}\"\n",
        "\n",
        "    def withdraw(self, amount):\n",
        "        if amount > self.balance:\n",
        "            return \"Insufficient funds!\"\n",
        "        self.balance -= amount\n",
        "        return f\"Withdrew {amount}. New Balance: {self.balance}\"\n",
        "\n",
        "    def check_balance(self):\n",
        "        return f\"Account Balance: {self.balance}\"\n",
        "\n",
        "# Example usage\n",
        "account = BankAccount(\"Alice\", 1000)\n",
        "print(account.deposit(500))\n",
        "print(account.withdraw(200))\n",
        "print(account.check_balance())\n"
      ],
      "metadata": {
        "colab": {
          "base_uri": "https://localhost:8080/"
        },
        "id": "0v9QUxmSdCBt",
        "outputId": "e560f301-b0fe-4619-a415-635734b243f8"
      },
      "execution_count": null,
      "outputs": [
        {
          "output_type": "stream",
          "name": "stdout",
          "text": [
            "Deposited 500. New Balance: 1500\n",
            "Withdrew 200. New Balance: 1300\n",
            "Account Balance: 1300\n"
          ]
        }
      ]
    },
    {
      "cell_type": "code",
      "source": [
        "#Explanation\n",
        "#The class-based approach makes it easy to handle multiple users.\n",
        "#deposit(), withdraw(), and check_balance() are modular functions.\n",
        "#Ensures funds cannot be overdrawn."
      ],
      "metadata": {
        "id": "AWXQTOp2dH7C"
      },
      "execution_count": null,
      "outputs": []
    },
    {
      "cell_type": "markdown",
      "source": [
        "#Project 3: To-Do List with Functions\n",
        "##Objective:\n",
        "###Create a simple command-line to-do list manager."
      ],
      "metadata": {
        "id": "2CjxmuNZdPNy"
      }
    },
    {
      "cell_type": "code",
      "source": [
        "tasks = []  # Global list to store tasks\n",
        "\n",
        "def add_task(task):\n",
        "    tasks.append(task)\n",
        "    return f\"Task '{task}' added.\"\n",
        "\n",
        "def remove_task(task):\n",
        "    if task in tasks:\n",
        "        tasks.remove(task)\n",
        "        return f\"Task '{task}' removed.\"\n",
        "    return \"Task not found!\"\n",
        "\n",
        "def show_tasks():\n",
        "    if not tasks:\n",
        "        return \"No tasks available.\"\n",
        "    return \"\\n\".join(f\"{i+1}. {task}\" for i, task in enumerate(tasks))\n",
        "\n",
        "# Example usage\n",
        "print(add_task(\"Buy Rice\"))\n",
        "print(add_task(\"Study Python\"))\n",
        "print(show_tasks())\n",
        "print(remove_task(\"Buy Rice\"))\n",
        "print(show_tasks())\n"
      ],
      "metadata": {
        "colab": {
          "base_uri": "https://localhost:8080/"
        },
        "id": "pTSajJuJdbP1",
        "outputId": "54e8401c-2f83-4902-b2cd-833802c1b91b"
      },
      "execution_count": null,
      "outputs": [
        {
          "output_type": "stream",
          "name": "stdout",
          "text": [
            "Task 'Buy Rice' added.\n",
            "Task 'Study Python' added.\n",
            "1. Buy Rice\n",
            "2. Study Python\n",
            "Task 'Buy Rice' removed.\n",
            "1. Study Python\n"
          ]
        }
      ]
    },
    {
      "cell_type": "code",
      "source": [
        "#Explanation\n",
        "#Uses a global list to store tasks.\n",
        "#add_task(), remove_task(), and show_tasks() manage the to-do list.\n",
        "#Tasks are dynamically added and removed.\n"
      ],
      "metadata": {
        "id": "7THGg-bzdwoh"
      },
      "execution_count": null,
      "outputs": []
    },
    {
      "cell_type": "markdown",
      "source": [
        "#Understanding Pandas, NumPy, Matplotlib, and Seaborn."
      ],
      "metadata": {
        "id": "SciDsmrLbNNb"
      }
    },
    {
      "cell_type": "code",
      "source": [
        "#Lets Explore Python to Load and Explore Data\n",
        "#Let's create a small dataset manually and analyze it to enable us uderstand Pandas.\n",
        "\n",
        "#Example 1: Create a DataFrame"
      ],
      "metadata": {
        "id": "X_1AQ0lxR78m"
      },
      "execution_count": null,
      "outputs": []
    },
    {
      "cell_type": "markdown",
      "source": [
        "Class Work:\n",
        "\n",
        "Let's create a dictionary with three columns: Name, Age, and Salary.\n",
        "pd.DataFrame(data) converts it into a Pandas DataFrame.\n",
        "print(df) displays the table."
      ],
      "metadata": {
        "id": "9oeTz-V7MrYW"
      }
    },
    {
      "cell_type": "code",
      "source": [
        "import pandas as pd\n",
        "\n",
        "# Create a small dataset\n",
        "data = {\n",
        "    \"Name\": [\"Roy\", \"Alice\", \"Bob\", \"Charlie\", \"David\", \"Eve\", \"Yakubu\"],\n",
        "    \"Age\": [45, 25, 30, 35, 40, 22, 36],\n",
        "    \"Salary\": [90000, 50000, 60000, 75000, 90000, 40000, 85000]\n",
        "}\n",
        "\n",
        "df = pd.DataFrame(data)  # Convert dictionary to DataFrame\n",
        "\n",
        "print(df)\n"
      ],
      "metadata": {
        "colab": {
          "base_uri": "https://localhost:8080/"
        },
        "id": "wV_RUhLxMigL",
        "outputId": "d6b84090-7ed4-450e-bc4c-7cb2b36d1613"
      },
      "execution_count": null,
      "outputs": [
        {
          "output_type": "stream",
          "name": "stdout",
          "text": [
            "      Name  Age  Salary\n",
            "0      Roy   45   90000\n",
            "1    Alice   25   50000\n",
            "2      Bob   30   60000\n",
            "3  Charlie   35   75000\n",
            "4    David   40   90000\n",
            "5      Eve   22   40000\n",
            "6   Yakubu   36   85000\n"
          ]
        }
      ]
    },
    {
      "cell_type": "code",
      "source": [
        "import pandas as pd\n",
        "data = {\n",
        "    \"Club_Name\": [\"Arsenal\", \"Liverpool\", \"Ac Milan\"],\n",
        "    \"Player_Name\": [\"Roy\", \"Yakubu\", \"Tony\"],\n",
        "    \"Jessey_Number\": [7, 4, 11],\n",
        "    'Salary': [25000, 3500, 45000],\n",
        "    \"Age\": [45, 35, 62],\n",
        "    \"Nationality\": [\"Nigeria\", \"Ghana\", \"Togo\"],\n",
        "    \"Position\": [\"Right Forward\", \"Center Forward\", \"left Forward\"]\n",
        "}\n",
        "df = pd.DataFrame(data)\n",
        "print(df)"
      ],
      "metadata": {
        "colab": {
          "base_uri": "https://localhost:8080/"
        },
        "id": "jz7d5fJzMjzS",
        "outputId": "1f6808d6-6764-4567-e4aa-030b5fdcde9a"
      },
      "execution_count": null,
      "outputs": [
        {
          "output_type": "stream",
          "name": "stdout",
          "text": [
            "   Club_Name Player_Name  Jessey_Number  Salary  Age Nationality  \\\n",
            "0    Arsenal         Roy              7   25000   45     Nigeria   \n",
            "1  Liverpool      Yakubu              4    3500   35       Ghana   \n",
            "2   Ac Milan        Tony             11   45000   62        Togo   \n",
            "\n",
            "         Position  \n",
            "0   Right Forward  \n",
            "1  Center Forward  \n",
            "2    left Forward  \n"
          ]
        }
      ]
    },
    {
      "cell_type": "code",
      "source": [],
      "metadata": {
        "id": "R8dKFjfFRjCl"
      },
      "execution_count": null,
      "outputs": []
    },
    {
      "cell_type": "code",
      "source": [
        "print(df.info())   # Shows column names, data types, and missing values\n",
        "print(df.describe())  # Shows statistics for numerical columns\n"
      ],
      "metadata": {
        "colab": {
          "base_uri": "https://localhost:8080/"
        },
        "id": "LKGOmyHEO-1K",
        "outputId": "1c8d56fa-eedb-464d-aaf5-0eb545683394"
      },
      "execution_count": null,
      "outputs": [
        {
          "output_type": "stream",
          "name": "stdout",
          "text": [
            "<class 'pandas.core.frame.DataFrame'>\n",
            "RangeIndex: 3 entries, 0 to 2\n",
            "Data columns (total 7 columns):\n",
            " #   Column         Non-Null Count  Dtype \n",
            "---  ------         --------------  ----- \n",
            " 0   Club_Name      3 non-null      object\n",
            " 1   Player_Name    3 non-null      object\n",
            " 2   Jessey_Number  3 non-null      int64 \n",
            " 3   Salary         3 non-null      int64 \n",
            " 4   Age            3 non-null      int64 \n",
            " 5   Nationality    3 non-null      object\n",
            " 6   Position       3 non-null      object\n",
            "dtypes: int64(3), object(4)\n",
            "memory usage: 300.0+ bytes\n",
            "None\n",
            "       Jessey_Number        Salary        Age\n",
            "count       3.000000      3.000000   3.000000\n",
            "mean        7.333333  24500.000000  47.333333\n",
            "std         3.511885  20754.517581  13.650397\n",
            "min         4.000000   3500.000000  35.000000\n",
            "25%         5.500000  14250.000000  40.000000\n",
            "50%         7.000000  25000.000000  45.000000\n",
            "75%         9.000000  35000.000000  53.500000\n",
            "max        11.000000  45000.000000  62.000000\n"
          ]
        }
      ]
    },
    {
      "cell_type": "code",
      "source": [
        "#Explanation:\n",
        "\n",
        "#df.info() tells us about column types and missing values.\n",
        "#df.describe() gives summary statistics (mean, min, max, etc.) for numerical columns."
      ],
      "metadata": {
        "id": "ESo5_wFpRAYw"
      },
      "execution_count": null,
      "outputs": []
    },
    {
      "cell_type": "code",
      "source": [
        "import pandas as pd\n",
        "data = {\n",
        "    \"Club_Name\": [\"Arsenal\", \"Liverpool\", \"Ac Milan\"],\n",
        "    \"Player_Name\": [\"Roy\", \"Yakubu\", \"Tony\"],\n",
        "    \"Jessey_Number\": [7, 4, 11],\n",
        "    'Salary': None,\n",
        "    \"Age\": [45, 35, 62],\n",
        "    \"Nationality\": [\"Nigeria\", \"Ghana\", \"Togo\"],\n",
        "    \"Position\": [\"Right Forward\", \"Center Forward\", \"left Forward\"]\n",
        "}\n",
        "df = pd.DataFrame(data)\n",
        "print(df)"
      ],
      "metadata": {
        "colab": {
          "base_uri": "https://localhost:8080/"
        },
        "id": "XjVxS3X2TNIu",
        "outputId": "3f0effdc-c49a-4527-a5aa-a530c305473e"
      },
      "execution_count": null,
      "outputs": [
        {
          "output_type": "stream",
          "name": "stdout",
          "text": [
            "   Club_Name Player_Name  Jessey_Number Salary  Age Nationality  \\\n",
            "0    Arsenal         Roy              7   None   45     Nigeria   \n",
            "1  Liverpool      Yakubu              4   None   35       Ghana   \n",
            "2   Ac Milan        Tony             11   None   62        Togo   \n",
            "\n",
            "         Position  \n",
            "0   Right Forward  \n",
            "1  Center Forward  \n",
            "2    left Forward  \n"
          ]
        }
      ]
    },
    {
      "cell_type": "code",
      "source": [
        "#Let's Learn Data Cleaning\n",
        "#Example 3: Handling Missing Data"
      ],
      "metadata": {
        "id": "DG5r6bNbSSuq"
      },
      "execution_count": null,
      "outputs": []
    },
    {
      "cell_type": "code",
      "source": [
        "df.loc[2, 'Salary'] = None  # Insert a missing value\n",
        "\n",
        "print(df.isnull().sum())  # Check missing values\n",
        "df.fillna(df['Salary'].mean(), inplace=True)  # Replace missing Salary with the mean\n",
        "\n",
        "print(df)\n"
      ],
      "metadata": {
        "colab": {
          "base_uri": "https://localhost:8080/"
        },
        "id": "YZmkjZrjSdcO",
        "outputId": "e8051818-505f-4477-ef9e-b3c7d2e94498"
      },
      "execution_count": null,
      "outputs": [
        {
          "output_type": "stream",
          "name": "stdout",
          "text": [
            "Club_Name        0\n",
            "Player_Name      0\n",
            "Jessey_Number    0\n",
            "Salary           3\n",
            "Age              0\n",
            "Nationality      0\n",
            "Position         0\n",
            "dtype: int64\n",
            "   Club_Name Player_Name  Jessey_Number  Salary  Age Nationality  \\\n",
            "0    Arsenal         Roy              7     NaN   45     Nigeria   \n",
            "1  Liverpool      Yakubu              4     NaN   35       Ghana   \n",
            "2   Ac Milan        Tony             11     NaN   62        Togo   \n",
            "\n",
            "         Position  \n",
            "0   Right Forward  \n",
            "1  Center Forward  \n",
            "2    left Forward  \n"
          ]
        },
        {
          "output_type": "stream",
          "name": "stderr",
          "text": [
            "<ipython-input-33-8ac2f295b638>:4: FutureWarning: Downcasting object dtype arrays on .fillna, .ffill, .bfill is deprecated and will change in a future version. Call result.infer_objects(copy=False) instead. To opt-in to the future behavior, set `pd.set_option('future.no_silent_downcasting', True)`\n",
            "  df.fillna(df['Salary'].mean(), inplace=True)  # Replace missing Salary with the mean\n"
          ]
        }
      ]
    },
    {
      "cell_type": "code",
      "source": [
        "#Explanation:\n",
        "\n",
        "#We introduce a missing value in the Salary column.\n",
        "#df.isnull().sum() checks how many missing values exist.\n",
        "#df.fillna() fills missing values with the mean salary."
      ],
      "metadata": {
        "id": "rCdg63UXShjP"
      },
      "execution_count": null,
      "outputs": []
    },
    {
      "cell_type": "code",
      "source": [
        "import pandas as pd\n",
        "data = {\n",
        "    \"Club_Name\": [\"Arsenal\", \"Liverpool\", \"Ac Milan\"],\n",
        "    \"Player_Name\": [\"Roy\", \"Yakubu\", \"Tony\"],\n",
        "    \"Jessey_Number\": [7, 4, 11],\n",
        "    \"Salary\": [50000, 38600, 65000],\n",
        "    \"Age\": [45, 35, 62],\n",
        "    \"Nationality\": [\"Nigeria\", \"Ghana\", \"Togo\"],\n",
        "    \"Position\": [\"Right Forward\", \"Center Forward\", \"left Forward\"]\n",
        "}\n",
        "df = pd.DataFrame(data)\n",
        "print(df)"
      ],
      "metadata": {
        "colab": {
          "base_uri": "https://localhost:8080/"
        },
        "id": "5OCaIPGFURoD",
        "outputId": "227f4946-0b5e-4bee-94fd-c1ae67fac487"
      },
      "execution_count": null,
      "outputs": [
        {
          "output_type": "stream",
          "name": "stdout",
          "text": [
            "   Club_Name Player_Name  Jessey_Number  Salary  Age Nationality  \\\n",
            "0    Arsenal         Roy              7   50000   45     Nigeria   \n",
            "1  Liverpool      Yakubu              4   38600   35       Ghana   \n",
            "2   Ac Milan        Tony             11   65000   62        Togo   \n",
            "\n",
            "         Position  \n",
            "0   Right Forward  \n",
            "1  Center Forward  \n",
            "2    left Forward  \n"
          ]
        }
      ]
    },
    {
      "cell_type": "markdown",
      "source": [
        "#Data Filtering\n",
        "Example 4: Select People with Salary Above 50,000"
      ],
      "metadata": {
        "id": "P6hDvbsrT9hZ"
      }
    },
    {
      "cell_type": "code",
      "source": [
        "high_salary = df[df[\"Salary\"] > 50000]  # Filter rows where Salary > 50,000\n",
        "print(high_salary)\n"
      ],
      "metadata": {
        "colab": {
          "base_uri": "https://localhost:8080/"
        },
        "id": "VNYynyk9T82p",
        "outputId": "a92b4e7d-9f15-4a53-845c-a7275e6f5911"
      },
      "execution_count": null,
      "outputs": [
        {
          "output_type": "stream",
          "name": "stdout",
          "text": [
            "  Club_Name Player_Name  Jessey_Number  Salary  Age Nationality      Position\n",
            "2  Ac Milan        Tony             11   65000   62        Togo  left Forward\n"
          ]
        }
      ]
    },
    {
      "cell_type": "code",
      "source": [],
      "metadata": {
        "id": "QhameiEVUGHt"
      },
      "execution_count": null,
      "outputs": []
    },
    {
      "cell_type": "markdown",
      "source": [
        "#Data Visualization\n",
        "Example 5: Histogram of Age"
      ],
      "metadata": {
        "id": "7TGk1CEHUwH7"
      }
    },
    {
      "cell_type": "code",
      "source": [
        "import matplotlib.pyplot as plt\n",
        "\n",
        "plt.hist(df[\"Age\"], bins=5, color='green', edgecolor='black')\n",
        "plt.xlabel(\"Age\")\n",
        "plt.ylabel(\"Count\")\n",
        "plt.title(\"Age Distribution\")\n",
        "plt.show()\n"
      ],
      "metadata": {
        "colab": {
          "base_uri": "https://localhost:8080/",
          "height": 211
        },
        "id": "zXyjTBxFU1V6",
        "outputId": "f06b8fb9-0cb3-42f0-820f-9108c20e0af9"
      },
      "execution_count": 3,
      "outputs": [
        {
          "output_type": "error",
          "ename": "NameError",
          "evalue": "name 'df' is not defined",
          "traceback": [
            "\u001b[0;31m---------------------------------------------------------------------------\u001b[0m",
            "\u001b[0;31mNameError\u001b[0m                                 Traceback (most recent call last)",
            "\u001b[0;32m<ipython-input-3-2b9a6a79f038>\u001b[0m in \u001b[0;36m<cell line: 0>\u001b[0;34m()\u001b[0m\n\u001b[1;32m      1\u001b[0m \u001b[0;32mimport\u001b[0m \u001b[0mmatplotlib\u001b[0m\u001b[0;34m.\u001b[0m\u001b[0mpyplot\u001b[0m \u001b[0;32mas\u001b[0m \u001b[0mplt\u001b[0m\u001b[0;34m\u001b[0m\u001b[0;34m\u001b[0m\u001b[0m\n\u001b[1;32m      2\u001b[0m \u001b[0;34m\u001b[0m\u001b[0m\n\u001b[0;32m----> 3\u001b[0;31m \u001b[0mplt\u001b[0m\u001b[0;34m.\u001b[0m\u001b[0mhist\u001b[0m\u001b[0;34m(\u001b[0m\u001b[0mdf\u001b[0m\u001b[0;34m[\u001b[0m\u001b[0;34m\"Age\"\u001b[0m\u001b[0;34m]\u001b[0m\u001b[0;34m,\u001b[0m \u001b[0mbins\u001b[0m\u001b[0;34m=\u001b[0m\u001b[0;36m5\u001b[0m\u001b[0;34m,\u001b[0m \u001b[0mcolor\u001b[0m\u001b[0;34m=\u001b[0m\u001b[0;34m'green'\u001b[0m\u001b[0;34m,\u001b[0m \u001b[0medgecolor\u001b[0m\u001b[0;34m=\u001b[0m\u001b[0;34m'black'\u001b[0m\u001b[0;34m)\u001b[0m\u001b[0;34m\u001b[0m\u001b[0;34m\u001b[0m\u001b[0m\n\u001b[0m\u001b[1;32m      4\u001b[0m \u001b[0mplt\u001b[0m\u001b[0;34m.\u001b[0m\u001b[0mxlabel\u001b[0m\u001b[0;34m(\u001b[0m\u001b[0;34m\"Age\"\u001b[0m\u001b[0;34m)\u001b[0m\u001b[0;34m\u001b[0m\u001b[0;34m\u001b[0m\u001b[0m\n\u001b[1;32m      5\u001b[0m \u001b[0mplt\u001b[0m\u001b[0;34m.\u001b[0m\u001b[0mylabel\u001b[0m\u001b[0;34m(\u001b[0m\u001b[0;34m\"Count\"\u001b[0m\u001b[0;34m)\u001b[0m\u001b[0;34m\u001b[0m\u001b[0;34m\u001b[0m\u001b[0m\n",
            "\u001b[0;31mNameError\u001b[0m: name 'df' is not defined"
          ]
        }
      ]
    },
    {
      "cell_type": "code",
      "source": [
        "#Explanation:\n",
        "\n",
        "#plt.hist() creates a histogram to show the age distribution.\n",
        "#bins=5 sets the number of bars in the histogram."
      ],
      "metadata": {
        "id": "PJUb4VlhU_Mo"
      },
      "execution_count": null,
      "outputs": []
    },
    {
      "cell_type": "markdown",
      "source": [
        "#Example 6: Scatter Plot (Age vs Salary)\n",
        "\n"
      ],
      "metadata": {
        "id": "_p0dTXa1WA4-"
      }
    },
    {
      "cell_type": "code",
      "source": [
        "plt.scatter(df[\"Age\"], df[\"Salary\"], color=\"red\")\n",
        "plt.xlabel(\"Age\")\n",
        "plt.ylabel(\"Salary\")\n",
        "plt.title(\"Age vs Salary\")\n",
        "plt.show()\n"
      ],
      "metadata": {
        "colab": {
          "base_uri": "https://localhost:8080/",
          "height": 472
        },
        "id": "56tjZ16xWHAO",
        "outputId": "973256ef-6154-48da-d9fd-1f7868d873ab"
      },
      "execution_count": null,
      "outputs": [
        {
          "output_type": "display_data",
          "data": {
            "text/plain": [
              "<Figure size 640x480 with 1 Axes>"
            ],
            "image/png": "[encoded data removed]"
          },
          "metadata": {}
        }
      ]
    },
    {
      "cell_type": "code",
      "source": [
        "#Explanation:\n",
        "\n",
        "#plt.scatter(x, y) creates a scatter plot of Age vs. Salary.\n",
        "#The chart helps visualize whether salary increases with age.\n"
      ],
      "metadata": {
        "id": "thmqQlA3WHrh"
      },
      "execution_count": null,
      "outputs": []
    },
    {
      "cell_type": "markdown",
      "source": [
        "#Example 7: Seaborn Pairplot"
      ],
      "metadata": {
        "id": "UlYm90JxWW1o"
      }
    },
    {
      "cell_type": "code",
      "source": [
        "import seaborn as sns\n",
        "\n",
        "sns.pairplot(df)\n",
        "plt.show()\n"
      ],
      "metadata": {
        "colab": {
          "base_uri": "https://localhost:8080/",
          "height": 758
        },
        "id": "YbrYI19BWMFF",
        "outputId": "3df565b5-8779-42f7-8f60-cf6ff31b1ce9"
      },
      "execution_count": null,
      "outputs": [
        {
          "output_type": "display_data",
          "data": {
            "text/plain": [
              "<Figure size 750x750 with 12 Axes>"
            ],
            "image/png": "[encoded data removed]"
          },
          "metadata": {}
        }
      ]
    },
    {
      "cell_type": "markdown",
      "source": [
        "Explanation:\n",
        "\n",
        "sns.pairplot(df) creates scatter plots for all numerical column combinations.\n",
        "It helps visualize relationships between variables.\n"
      ],
      "metadata": {
        "id": "9f3gNOzhWmu4"
      }
    },
    {
      "cell_type": "code",
      "source": [],
      "metadata": {
        "id": "OT-aSBswWbnI"
      },
      "execution_count": null,
      "outputs": []
    },
    {
      "cell_type": "code",
      "source": [],
      "metadata": {
        "id": "pCZFisPnWwl7"
      },
      "execution_count": null,
      "outputs": []
    },
    {
      "cell_type": "markdown",
      "source": [
        "#Basic Machine Learning Example\n",
        "Let's build a simple Linear Regression Model to predict Salary based on Age.\n",
        "\n",
        "Example 8: Predict Salary using Age"
      ],
      "metadata": {
        "id": "ANYczps3WxRB"
      }
    },
    {
      "cell_type": "code",
      "source": [
        "from sklearn.model_selection import train_test_split\n",
        "from sklearn.linear_model import LinearRegression\n",
        "from sklearn.metrics import mean_squared_error\n",
        "\n",
        "# Prepare data\n",
        "X = df[['Age']]  # Feature\n",
        "y = df['Salary']  # Target\n",
        "\n",
        "# Split into training and testing sets\n",
        "X_train, X_test, y_train, y_test = train_test_split(X, y, test_size=0.2, random_state=42)\n",
        "\n",
        "# Train model\n",
        "model = LinearRegression()\n",
        "model.fit(X_train, y_train)\n",
        "\n",
        "# Make predictions\n",
        "y_pred = model.predict(X_test)\n",
        "\n",
        "# Evaluate model\n",
        "mse = mean_squared_error(y_test, y_pred)\n",
        "print(f\"Mean Squared Error: {mse}\")\n"
      ],
      "metadata": {
        "colab": {
          "base_uri": "https://localhost:8080/"
        },
        "id": "5sgf3jqVW2ug",
        "outputId": "f49166f5-9f3b-4135-dc9b-55892a93973c"
      },
      "execution_count": null,
      "outputs": [
        {
          "output_type": "stream",
          "name": "stdout",
          "text": [
            "Mean Squared Error: 2631604.9382715942\n"
          ]
        }
      ]
    },
    {
      "cell_type": "code",
      "source": [],
      "metadata": {
        "id": "F6HxC9LCW3bn"
      },
      "execution_count": null,
      "outputs": []
    },
    {
      "cell_type": "markdown",
      "source": [
        "Explanation:\n",
        "\n",
        "We split the data into training and testing sets using train_test_split().\n",
        "We train a Linear Regression model on the training data.\n",
        "We predict Salary using model.predict(X_test).\n",
        "We evaluate performance using Mean Squared Error (MSE)."
      ],
      "metadata": {
        "id": "ReWJ7bPwXW9N"
      }
    },
    {
      "cell_type": "code",
      "source": [
        "greet()"
      ],
      "metadata": {
        "colab": {
          "base_uri": "https://localhost:8080/"
        },
        "id": "E-Q9IsCXajLB",
        "outputId": "a4139c04-82b7-4231-8858-54ba1057c359"
      },
      "execution_count": 18,
      "outputs": [
        {
          "output_type": "stream",
          "name": "stdout",
          "text": [
            "Hell, Yakubu\n",
            "How are you?\n",
            "How far with your classes?\n",
            "What class are you?\n"
          ]
        }
      ]
    },
    {
      "cell_type": "code",
      "source": [],
      "metadata": {
        "id": "5aeAlmRPakNn"
      },
      "execution_count": null,
      "outputs": []
    }
  ]
}